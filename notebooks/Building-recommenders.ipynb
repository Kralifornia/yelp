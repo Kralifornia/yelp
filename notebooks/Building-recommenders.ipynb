{
 "worksheets": [
  {
   "cells": [
    {
     "cell_type": "markdown",
     "metadata": {},
     "source": [
      "# Building a new recommender system using the recommending framework\n",
      "\n",
      "In this notebook we are going to expose how some of the recommender systems that are currently part of the recommending framework are built.\n",
      "\n",
      "The first thing that has to be considered when building a recommender system within this framework, is that all recommender systems should extend the class <code>BaseRecommender</code>, either directly, or by extending another class that is a subclass of <code>BaseRecommender</code>. All of the recommender systems must implement the method <code>predict_rating(user, item)</code>."
     ]
    },
    {
     "cell_type": "markdown",
     "metadata": {},
     "source": [
      "## Single-criterion recommender systems\n",
      "\n",
      "These recommender systems extend directly from the <code>BaseRecommender</code> class. Let's take a look at how one of the single-criterion recommender systems is implemented."
     ]
    },
    {
     "cell_type": "code",
     "execution_count": null,
     "metadata": {},
     "outputs": [],
     "input": [
      "import sys\n",
      "sys.path.append('/Users/fpena/UCC/Thesis/projects/yelp/source/python')\n",
      "\n",
      "from recommenders.base_recommender import BaseRecommender"
     ],
     "language": "python",
     "prompt_number": 1
    },
    {
     "cell_type": "code",
     "execution_count": null,
     "metadata": {},
     "outputs": [],
     "input": [
      "class WeightedSumRecommender(BaseRecommender):\n",
      "\n",
      "    def __init__(self, similarity_metric='cosine'):\n",
      "        super(WeightedSumRecommender, self).__init__('SingleCF', 'cosine')\n",
      "        self.similarity_metric = similarity_metric\n",
      "\n",
      "    def predict_rating(self, user_id, item_id):\n",
      "\n",
      "        other_users = list(self.user_ids)\n",
      "\n",
      "        if user_id not in other_users:\n",
      "            return None\n",
      "\n",
      "        other_users.remove(user_id)\n",
      "        weighted_sum = 0.\n",
      "        z_denominator = 0.\n",
      "\n",
      "        for other_user in other_users:\n",
      "            similarity = self.user_similarity_matrix[other_user][user_id]\n",
      "\n",
      "            if item_id in self.user_dictionary[other_user].item_ratings and similarity is not None:\n",
      "                other_user_item_rating =\\\n",
      "                    self.user_dictionary[other_user].item_ratings[item_id]\n",
      "                weighted_sum += similarity * other_user_item_rating\n",
      "                z_denominator += abs(similarity)\n",
      "\n",
      "        if z_denominator == 0:\n",
      "            return None\n",
      "\n",
      "        predicted_rating = weighted_sum / z_denominator\n",
      "\n",
      "        return predicted_rating"
     ],
     "language": "python",
     "prompt_number": 2
    },
    {
     "cell_type": "markdown",
     "metadata": {},
     "source": [
      "As it can be seen in the code above the <code>WeightedSumRecommender</code> makes a call to the constructor of the <code>BaseRecommender</code> class passing the name of the recommeder, and the metric that is going to be used to calculate the similarity between two users (in the above case is 'cosine'). Finally it implements the <code>predic_rating(user,item)</code> method, in which it uses some of the attributes of the <code>BaseRecommender</code> class that have been initialized after calling the <code>load(reviews)</code> method. The attributes we can see the method is using are:\n",
      "\n",
      "* <code>self.user_ids</code>\n",
      "* <code>self.user_similarity_matrix</code>\n",
      "* <code>self.user_dictionary</code>"
     ]
    },
    {
     "cell_type": "markdown",
     "metadata": {},
     "source": [
      "## Multi-criteria recommender systems\n",
      "\n",
      "These recommender systems extend directly from the <code>MultiCriteriaBaseRecommender</code> class, which is an abstract class that extends from the <code>BaseRecommender</code> class. Let's take a look at how one of the multi-criteria recommender systems is implemented."
     ]
    },
    {
     "cell_type": "code",
     "execution_count": null,
     "metadata": {},
     "outputs": [],
     "input": [
      "from recommenders.multicriteria.multicriteria_base_recommender import MultiCriteriaBaseRecommender"
     ],
     "language": "python",
     "prompt_number": 3
    },
    {
     "cell_type": "code",
     "execution_count": null,
     "metadata": {},
     "outputs": [],
     "input": [
      "class DeltaCFRecommender(MultiCriteriaBaseRecommender):\n",
      "\n",
      "    def __init__(\n",
      "            self, similarity_metric='euclidean', significant_criteria_ranges=None):\n",
      "        super(DeltaCFRecommender, self).__init__(\n",
      "            'DeltaCFRecommender',\n",
      "            similarity_metric=similarity_metric,\n",
      "            significant_criteria_ranges=significant_criteria_ranges)\n",
      "\n",
      "    def predict_rating(self, user_id, item_id):\n",
      "        \"\"\"\n",
      "        Predicts the rating the user will give to the hotel\n",
      "\n",
      "        :param user_id: the ID of the user\n",
      "        :param item_id: the ID of the hotel\n",
      "        :return: a float between 1 and 5 with the predicted rating\n",
      "        \"\"\"\n",
      "        if user_id not in self.user_dictionary:\n",
      "            return None\n",
      "\n",
      "        cluster_name = self.user_dictionary[user_id].cluster\n",
      "\n",
      "        # We remove the given user from the cluster in order to avoid bias\n",
      "        cluster_users = list(self.user_cluster_dictionary[cluster_name])\n",
      "        cluster_users.remove(user_id)\n",
      "\n",
      "        similarities_sum = 0.\n",
      "        similarities_ratings_sum = 0.\n",
      "        num_users = 0\n",
      "        for cluster_user in cluster_users:\n",
      "            cluster_user_overall_rating = self.user_dictionary[cluster_user].average_overall_rating\n",
      "            users_similarity = self.user_similarity_matrix[cluster_user][user_id]\n",
      "\n",
      "            if item_id in self.user_dictionary[cluster_user].item_ratings and users_similarity is not None:\n",
      "                cluster_user_item_rating = self.user_dictionary[cluster_user].item_ratings[item_id]\n",
      "                similarities_sum += users_similarity\n",
      "                similarities_ratings_sum +=\\\n",
      "                    users_similarity * (cluster_user_item_rating - cluster_user_overall_rating)\n",
      "                num_users += 1\n",
      "\n",
      "        if num_users == 0:\n",
      "            return None\n",
      "\n",
      "        user_average_rating = self.user_dictionary[user_id].average_overall_rating\n",
      "        predicted_rating = \\\n",
      "            user_average_rating + similarities_ratings_sum / similarities_sum\n",
      "\n",
      "        return predicted_rating"
     ],
     "language": "python",
     "prompt_number": 4
    },
    {
     "cell_type": "markdown",
     "metadata": {},
     "source": [
      "Addtionally to using the attributes from the <code>BaseRecommender</code> class, the classes that extend the <code>MultiCriteriaBaseRecommender</code> class also have access to the <code>self.user_cluster_dictionary</code>. Notice that altough the same attributes from the <code>BaseRecommender</code> class are accessed, this attributes have disctinct values in the <code>MultiCriteriaBaseRecommender</code> class. For instance, the <code>self.user_similarity_matrix</code> is calculated using multi-criteria ratings, and has totally different values from the <code>self.user_similarity_matrix</code> that is obtained while extending directly from the <code>BaseRecommender</code> class."
     ]
    },
    {
     "cell_type": "markdown",
     "metadata": {},
     "source": [
      "## Multi-criteria recommender systems without collaborative filtering\n",
      "\n",
      "Theses systems also extend the <code>MultiCriteriaBaseRecommender</code> class, but they do not initialize a user similarity matrix, which makes them faster. An example of such system can be viewed in the following class:"
     ]
    },
    {
     "cell_type": "code",
     "execution_count": null,
     "metadata": {},
     "outputs": [],
     "input": [
      "class OverallRecommender(MultiCriteriaBaseRecommender):\n",
      "\n",
      "    def __init__(self, significant_criteria_ranges=None):\n",
      "        super(OverallRecommender, self).__init__(\n",
      "            'OverallRecommender',\n",
      "            similarity_metric=None,\n",
      "            significant_criteria_ranges=significant_criteria_ranges)\n",
      "\n",
      "    def predict_rating(self, user_id, item_id):\n",
      "\n",
      "        if user_id not in self.user_dictionary:\n",
      "            return None\n",
      "\n",
      "        cluster_name = self.user_dictionary[user_id].cluster\n",
      "\n",
      "        # We remove the given user from the cluster in order to avoid bias\n",
      "        cluster_users = list(self.user_cluster_dictionary[cluster_name])\n",
      "        cluster_users.remove(user_id)\n",
      "        similarities_ratings_sum = 0.\n",
      "        num_users = 0\n",
      "\n",
      "        for cluster_user in cluster_users:\n",
      "            if item_id in self.user_dictionary[cluster_user].item_ratings:\n",
      "                cluster_user_item_rating = self.user_dictionary[cluster_user].item_ratings[item_id]\n",
      "                similarities_ratings_sum += cluster_user_item_rating\n",
      "                num_users += 1\n",
      "\n",
      "        if num_users == 0:\n",
      "            return None\n",
      "\n",
      "        predicted_rating = similarities_ratings_sum / num_users\n",
      "\n",
      "        return predicted_rating"
     ],
     "language": "python",
     "prompt_number": 5
    },
    {
     "cell_type": "markdown",
     "metadata": {},
     "source": [
      "As it can be seen, the value that this recommender systems have for the similarity metric is <code>None</code> since it is not a collaborative filtering system."
     ]
    },
    {
     "cell_type": "markdown",
     "metadata": {},
     "source": [
      "## Dummy Recommender\n",
      "\n",
      "The dummy recommender is just a recommender system that predict the same rating regarless of the user and/or item. Typically if a recommender system behaves worst than the dummy recommender system, its useless. In the constructor of this class, the rating that will always be predicted is given."
     ]
    },
    {
     "cell_type": "code",
     "execution_count": null,
     "metadata": {},
     "outputs": [],
     "input": [
      "class DummyRecommender(BaseRecommender):\n",
      "\n",
      "    def __init__(self, rating):\n",
      "        super(DummyRecommender, self).__init__('DummyRecommender', None)\n",
      "        self._rating = rating\n",
      "\n",
      "    def predict_rating(self, user_id, hotel_id):\n",
      "        return self._rating\n",
      "\n",
      "    def load(self, reviews):\n",
      "        pass"
     ],
     "language": "python",
     "prompt_number": 6
    },
    {
     "cell_type": "markdown",
     "metadata": {},
     "source": [
      "## Testing the systems\n",
      "\n",
      "In order to compare the performance of the systems, a small data set will be created."
     ]
    },
    {
     "cell_type": "code",
     "execution_count": null,
     "metadata": {},
     "outputs": [],
     "input": [
      "reviews_matrix_5 = [\n",
      "    {'user_id': 'U1', 'offering_id': 1, 'overall_rating': 5.0, 'cleanliness_rating': 2.0, 'location_rating': 2.0, 'rooms_rating': 8.0, 'service_rating': 8.0, 'value_rating': 5.0},\n",
      "    {'user_id': 'U1', 'offering_id': 2, 'overall_rating': 7.0, 'cleanliness_rating': 5.0, 'location_rating': 5.0, 'rooms_rating': 9.0, 'service_rating': 9.0, 'value_rating': 7.0},\n",
      "    {'user_id': 'U1', 'offering_id': 3, 'overall_rating': 5.0, 'cleanliness_rating': 2.0, 'location_rating': 2.0, 'rooms_rating': 8.0, 'service_rating': 8.0, 'value_rating': 5.0},\n",
      "    {'user_id': 'U1', 'offering_id': 4, 'overall_rating': 7.0, 'cleanliness_rating': 5.0, 'location_rating': 5.0, 'rooms_rating': 9.0, 'service_rating': 9.0, 'value_rating': 7.0},\n",
      "    # {'user_id': 'U1', 'offering_id': 5, 'overall_rating': 4.0},\n",
      "    {'user_id': 'U2', 'offering_id': 1, 'overall_rating': 5.0, 'cleanliness_rating': 8.0, 'location_rating': 8.0, 'rooms_rating': 2.0, 'service_rating': 2.0, 'value_rating': 5.0},\n",
      "    {'user_id': 'U2', 'offering_id': 2, 'overall_rating': 7.0, 'cleanliness_rating': 9.0, 'location_rating': 9.0, 'rooms_rating': 5.0, 'service_rating': 5.0, 'value_rating': 7.0},\n",
      "    {'user_id': 'U2', 'offering_id': 3, 'overall_rating': 5.0, 'cleanliness_rating': 8.0, 'location_rating': 8.0, 'rooms_rating': 2.0, 'service_rating': 2.0, 'value_rating': 5.0},\n",
      "    {'user_id': 'U2', 'offering_id': 4, 'overall_rating': 7.0, 'cleanliness_rating': 9.0, 'location_rating': 9.0, 'rooms_rating': 5.0, 'service_rating': 5.0, 'value_rating': 7.0},\n",
      "    {'user_id': 'U2', 'offering_id': 5, 'overall_rating': 9.0, 'cleanliness_rating': 9.0, 'location_rating': 9.0, 'rooms_rating': 9.0, 'service_rating': 9.0, 'value_rating': 9.0},\n",
      "    {'user_id': 'U3', 'offering_id': 1, 'overall_rating': 5.0, 'cleanliness_rating': 8.0, 'location_rating': 8.0, 'rooms_rating': 2.0, 'service_rating': 2.0, 'value_rating': 5.0},\n",
      "    {'user_id': 'U3', 'offering_id': 2, 'overall_rating': 7.0, 'cleanliness_rating': 9.0, 'location_rating': 9.0, 'rooms_rating': 5.0, 'service_rating': 5.0, 'value_rating': 7.0},\n",
      "    {'user_id': 'U3', 'offering_id': 3, 'overall_rating': 5.0, 'cleanliness_rating': 8.0, 'location_rating': 8.0, 'rooms_rating': 2.0, 'service_rating': 2.0, 'value_rating': 5.0},\n",
      "    {'user_id': 'U3', 'offering_id': 4, 'overall_rating': 7.0, 'cleanliness_rating': 9.0, 'location_rating': 9.0, 'rooms_rating': 5.0, 'service_rating': 5.0, 'value_rating': 7.0},\n",
      "    {'user_id': 'U3', 'offering_id': 5, 'overall_rating': 9.0, 'cleanliness_rating': 9.0, 'location_rating': 9.0, 'rooms_rating': 9.0, 'service_rating': 9.0, 'value_rating': 9.0},\n",
      "    {'user_id': 'U4', 'offering_id': 1, 'overall_rating': 6.0, 'cleanliness_rating': 3.0, 'location_rating': 3.0, 'rooms_rating': 9.0, 'service_rating': 9.0, 'value_rating': 6.0},\n",
      "    {'user_id': 'U4', 'offering_id': 2, 'overall_rating': 6.0, 'cleanliness_rating': 3.0, 'location_rating': 3.0, 'rooms_rating': 9.0, 'service_rating': 9.0, 'value_rating': 6.0},\n",
      "    {'user_id': 'U4', 'offering_id': 3, 'overall_rating': 6.0, 'cleanliness_rating': 4.0, 'location_rating': 4.0, 'rooms_rating': 8.0, 'service_rating': 8.0, 'value_rating': 6.0},\n",
      "    {'user_id': 'U4', 'offering_id': 4, 'overall_rating': 6.0, 'cleanliness_rating': 4.0, 'location_rating': 4.0, 'rooms_rating': 8.0, 'service_rating': 8.0, 'value_rating': 6.0},\n",
      "    {'user_id': 'U4', 'offering_id': 5, 'overall_rating': 5.0, 'cleanliness_rating': 5.0, 'location_rating': 5.0, 'rooms_rating': 5.0, 'service_rating': 5.0, 'value_rating': 5.0},\n",
      "    {'user_id': 'U5', 'offering_id': 1, 'overall_rating': 6.0, 'cleanliness_rating': 3.0, 'location_rating': 3.0, 'rooms_rating': 9.0, 'service_rating': 9.0, 'value_rating': 6.0},\n",
      "    {'user_id': 'U5', 'offering_id': 2, 'overall_rating': 6.0, 'cleanliness_rating': 3.0, 'location_rating': 3.0, 'rooms_rating': 9.0, 'service_rating': 9.0, 'value_rating': 6.0},\n",
      "    {'user_id': 'U5', 'offering_id': 3, 'overall_rating': 6.0, 'cleanliness_rating': 4.0, 'location_rating': 4.0, 'rooms_rating': 8.0, 'service_rating': 8.0, 'value_rating': 6.0},\n",
      "    {'user_id': 'U5', 'offering_id': 4, 'overall_rating': 6.0, 'cleanliness_rating': 4.0, 'location_rating': 4.0, 'rooms_rating': 8.0, 'service_rating': 8.0, 'value_rating': 6.0},\n",
      "    {'user_id': 'U5', 'offering_id': 5, 'overall_rating': 5.0, 'cleanliness_rating': 5.0, 'location_rating': 5.0, 'rooms_rating': 5.0, 'service_rating': 5.0, 'value_rating': 5.0}\n",
      "]"
     ],
     "language": "python",
     "prompt_number": 7
    },
    {
     "cell_type": "markdown",
     "metadata": {},
     "source": [
      "We are going to create a method that iterates over all the ratings and compares the predicted rating against the acual rating"
     ]
    },
    {
     "cell_type": "code",
     "execution_count": null,
     "metadata": {},
     "outputs": [],
     "input": [
      "from evaluation.mean_absolute_error import MeanAbsoluteError\n",
      "from evaluation.root_mean_square_error import RootMeanSquareError"
     ],
     "language": "python",
     "prompt_number": 8
    },
    {
     "cell_type": "code",
     "execution_count": null,
     "metadata": {},
     "outputs": [],
     "input": [
      "def predict_rating_list(predictor, reviews):\n",
      "    \"\"\"\n",
      "    For each one of the reviews this method predicts the rating for the\n",
      "    user and item contained in the review and also returns the error\n",
      "    between the predicted rating and the actual rating the user gave to the\n",
      "    item\n",
      "\n",
      "    :param predictor: the object used to predict the rating that will be given\n",
      "     by a the user to the item contained in each review\n",
      "    :param reviews: a list of reviews (the test data)\n",
      "    :return: a tuple with a list of the predicted ratings and the list of\n",
      "    errors for those predictions\n",
      "    \"\"\"\n",
      "    predicted_ratings = []\n",
      "    errors = []\n",
      "\n",
      "    for review in reviews:\n",
      "\n",
      "        user_id = review['user_id']\n",
      "        item_id = review['offering_id']\n",
      "        predicted_rating = predictor.predict_rating(user_id, item_id)\n",
      "        actual_rating = review['overall_rating']\n",
      "\n",
      "        # print(user_id, item_id, predicted_rating)\n",
      "\n",
      "        error = None\n",
      "\n",
      "        if predicted_rating is not None and actual_rating is not None:\n",
      "            error = abs(predicted_rating - actual_rating)\n",
      "\n",
      "        predicted_ratings.append(predicted_rating)\n",
      "        errors.append(error)\n",
      "\n",
      "    return predicted_ratings, errors"
     ],
     "language": "python",
     "prompt_number": 9
    },
    {
     "cell_type": "markdown",
     "metadata": {},
     "source": [
      "Then we can compare how the systems behave in terms of Mean Absolute Error and Root Mean Square Error. Additionally, we will include the other recommender systems that have been implemented in the framework but that have not been shown in this notebook."
     ]
    },
    {
     "cell_type": "code",
     "execution_count": null,
     "metadata": {},
     "outputs": [],
     "input": [
      "from recommenders.adjusted_weighted_sum_recommender import AdjustedWeightedSumRecommender\n",
      "from recommenders.multicriteria.delta_recommender import DeltaRecommender\n",
      "from recommenders.multicriteria.overall_cf_recommender import OverallCFRecommender"
     ],
     "language": "python",
     "prompt_number": 10
    },
    {
     "cell_type": "code",
     "execution_count": null,
     "metadata": {},
     "outputs": [],
     "input": [
      "def test_compare_against_dummy_recommender():\n",
      "    recommender = AdjustedWeightedSumRecommender()\n",
      "    recommender.load(reviews_matrix_5)\n",
      "    _, errors = predict_rating_list(recommender, reviews_matrix_5)\n",
      "    awsr_mean_absolute_error = MeanAbsoluteError.compute_list(errors)\n",
      "    awsr_root_mean_square_error = RootMeanSquareError.compute_list(errors)\n",
      "    print('\\nAdjusteddddddd Weighted Sum Recommender')\n",
      "    print('Mean Absolute error:', awsr_mean_absolute_error)\n",
      "    print('Root mean square error:', awsr_root_mean_square_error)\n",
      "    \n",
      "    recommender = WeightedSumRecommender()\n",
      "    recommender.load(reviews_matrix_5)\n",
      "    _, errors = predict_rating_list(recommender, reviews_matrix_5)\n",
      "    wsr_mean_absolute_error = MeanAbsoluteError.compute_list(errors)\n",
      "    wsr_root_mean_square_error = RootMeanSquareError.compute_list(errors)\n",
      "    print('\\nWeighted Sum Recommender')\n",
      "    print('Mean Absolute error:', wsr_mean_absolute_error)\n",
      "    print('Root mean square error:',  wsr_root_mean_square_error)\n",
      "    \n",
      "    recommender = DeltaCFRecommender()\n",
      "    recommender.load(reviews_matrix_5)\n",
      "    _, errors = predict_rating_list(recommender, reviews_matrix_5)\n",
      "    dcfr_mean_absolute_error = MeanAbsoluteError.compute_list(errors)\n",
      "    dcfr_root_mean_square_error = RootMeanSquareError.compute_list(errors)\n",
      "    print('\\nDelta CF Recommender')\n",
      "    print('Mean Absolute error:', dcfr_mean_absolute_error)\n",
      "    print('Root mean square error:',  dcfr_root_mean_square_error)\n",
      "    \n",
      "    recommender = DeltaRecommender()\n",
      "    recommender.load(reviews_matrix_5)\n",
      "    _, errors = predict_rating_list(recommender, reviews_matrix_5)\n",
      "    dr_mean_absolute_error = MeanAbsoluteError.compute_list(errors)\n",
      "    dr_root_mean_square_error = RootMeanSquareError.compute_list(errors)\n",
      "    print('\\nDelta Recommender')\n",
      "    print('Mean Absolute error:', dr_mean_absolute_error)\n",
      "    print('Root mean square error:',  dr_root_mean_square_error)\n",
      "    \n",
      "    recommender = OverallCFRecommender()\n",
      "    recommender.load(reviews_matrix_5)\n",
      "    _, errors = predict_rating_list(recommender, reviews_matrix_5)\n",
      "    ocfr_mean_absolute_error = MeanAbsoluteError.compute_list(errors)\n",
      "    ocfr_root_mean_square_error = RootMeanSquareError.compute_list(errors)\n",
      "    print('\\nOverall CF Recommender')\n",
      "    print('Mean Absolute error:', ocfr_mean_absolute_error)\n",
      "    print('Root mean square error:',  ocfr_root_mean_square_error)\n",
      "    \n",
      "    recommender = OverallRecommender()\n",
      "    recommender.load(reviews_matrix_5)\n",
      "    _, errors = predict_rating_list(recommender, reviews_matrix_5)\n",
      "    or_mean_absolute_error = MeanAbsoluteError.compute_list(errors)\n",
      "    or_root_mean_square_error = RootMeanSquareError.compute_list(errors)\n",
      "    print('\\nOverall Recommender')\n",
      "    print('Mean Absolute error:', or_mean_absolute_error)\n",
      "    print('Root mean square error:',  or_root_mean_square_error)\n",
      "\n",
      "    recommender = DummyRecommender(6.0)\n",
      "    _, errors = predict_rating_list(recommender, reviews_matrix_5)\n",
      "    dummy_mean_absolute_error = MeanAbsoluteError.compute_list(errors)\n",
      "    dummy_root_mean_square_error = RootMeanSquareError.compute_list(errors)\n",
      "    print('\\nDummy Recommender')\n",
      "    print('Mean Absolute error:', dummy_mean_absolute_error)\n",
      "    print('Root mean square error:',  dummy_root_mean_square_error)"
     ],
     "language": "python",
     "prompt_number": 13
    },
    {
     "cell_type": "code",
     "execution_count": null,
     "metadata": {},
     "outputs": [
      {
       "output_type": "stream",
       "stream": "stdout",
       "text": [
        "\n",
        "Adjusted Weighted Sum Recommender\n",
        "('Mean Absolute error:', 0.86323777546087088)\n",
        "('Root mean square error:', 1.102484964600412)\n",
        "\n",
        "Weighted Sum Recommender\n",
        "('Mean Absolute error:', 0.93259603420158754)\n",
        "('Root mean square error:', 1.2079843971402182)\n",
        "Total users: 5"
       ]
      },
      {
       "output_type": "stream",
       "stream": "stdout",
       "text": [
        "\n",
        "\n",
        "Delta CF Recommender\n",
        "('Mean Absolute error:', 0.44209858955782239)\n",
        "('Root mean square error:', 0.55782801094441503)\n",
        "Total users: 5"
       ]
      },
      {
       "output_type": "stream",
       "stream": "stdout",
       "text": [
        "\n",
        "\n",
        "Delta Recommender\n",
        "('Mean Absolute error:', 0.87222222222222212)\n",
        "('Root mean square error:', 1.1162519959751556)\n",
        "Total users: 5"
       ]
      },
      {
       "output_type": "stream",
       "stream": "stdout",
       "text": [
        "\n",
        "\n",
        "Overall CF Recommender\n",
        "('Mean Absolute error:', 0.46444096680953334)\n",
        "('Root mean square error:', 0.5755979144663993)\n",
        "Total users: 5"
       ]
      },
      {
       "output_type": "stream",
       "stream": "stdout",
       "text": [
        "\n",
        "\n",
        "Overall Recommender\n",
        "('Mean Absolute error:', 0.94444444444444464)\n",
        "('Root mean square error:', 1.2237994873283717)\n",
        "\n",
        "Dummy Recommender\n",
        "('Mean Absolute error:', 0.8333333333333334)\n",
        "('Root mean square error:', 1.1547005383792515)\n"
       ]
      }
     ],
     "input": [
      "test_compare_against_dummy_recommender()"
     ],
     "language": "python",
     "prompt_number": 14
    },
    {
     "cell_type": "markdown",
     "metadata": {},
     "source": [
      "As it can be seen, the results show that for this small dataset, the dummy recommender system outperforms four other recommender system and its only beatean by two, both which are multi-criteria collaborative filtering recommenders. Just to note, the Adjusted Weighted Sum Recommender and the Weighted Sum Recommender are single-criterion collaborative filtering recommenders."
     ]
    }
   ]
  }
 ],
 "cells": [],
 "metadata": {
  "name": "",
  "signature": "sha256:2699ae902891a65ecbe1faf5d71556e9df22b92feda5b452a4a5e9c84abc54bc"
 },
 "nbformat": 3,
 "nbformat_minor": 0
}