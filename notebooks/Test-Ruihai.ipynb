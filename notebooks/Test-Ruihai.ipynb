{
 "metadata": {
  "name": "",
  "signature": "sha256:84e90bccf6aefed781323c71c3f49225e10c205d3b18cccb7548068727f6b305"
 },
 "nbformat": 3,
 "nbformat_minor": 0,
 "worksheets": [
  {
   "cells": [
    {
     "cell_type": "markdown",
     "metadata": {},
     "source": [
      "# Testing the Recommender System on Ruihai's TripAdvisor Dataset\n",
      "\n",
      "The original Ruihai TripAdvisor dataset contains:\n",
      "* 167430 reviews\n",
      "* Made by 150962 users\n",
      "* About 2312 items\n",
      "* It has an approximated sparsity of 0.999520291066\n",
      "\n",
      "Since the sparsity is very high, we are going to filter the dataset to include only the reviews of users who have made five or more reviews. That leave us with a dataset of:\n",
      "\n",
      "* 1323 reviews\n",
      "* Made by 220 users\n",
      "* About 860 items\n",
      "* It has an approximated sparsity of 0.993007399577\n",
      "\n",
      "Still the sparsity is very high, but we will work with this filtered dataset. We did not filter the sparsity further because the number of resulting reviews was going to be very low for our recommendation purpouses.\n",
      "\n",
      "A detailed explanation of the filtered dataset can be found [here](http://nbviewer.ipython.org/github/melqkiades/yelp/blob/master/notebooks/dataset_analysis_report_ruihai.ipynb)\n",
      "\n",
      "Since the number of reviews is so low (1323), everytime a shuffling on the data is performed the results of the recommender vary considerably. So we are going to take an average of 10 runs on the presented results.\n",
      "\n",
      "## Adjusted Weighted Sum Recommender\n",
      "* MAE: 0.7973289\n",
      "* RMSE: 1.0342732\n",
      "* Coverage: 0.0914644\n",
      "\n",
      "## Average Recommender\n",
      "* MAE: 0.8257624\n",
      "* RMSE: 1.0267473\n",
      "* Coverage: 1.0\n",
      "\n",
      "## Dummy\n",
      "* MAE: 0.7558525\n",
      "* RMSE: 1.0537799\n",
      "* Coverage: 1.0\n",
      "\n",
      "As we can see, the Dummy recommender has a better performance than the Adjusted Weighted Sum Recommender, which may be explained by the fact that the dataset is very sparse. We can also see that the Coverage of the Adjusted Weighted Sum Recommender is very low."
     ]
    }
   ],
   "metadata": {}
  }
 ]
}