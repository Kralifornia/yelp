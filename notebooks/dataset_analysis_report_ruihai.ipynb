{
 "metadata": {},
 "nbformat": 3,
 "nbformat_minor": 0,
 "worksheets": [
  {
   "cells": [
    {
     "cell_type": "markdown",
     "metadata": {},
     "source": [
      "# Yelp Phoenix Dataset Analysis"
     ]
    },
    {
     "cell_type": "markdown",
     "metadata": {},
     "source": [
      "## Fact Sheet\n",
      "The Yelp Phoenix contains:\n",
      "* 335022 reviews\n",
      "* Made by 70817 users\n",
      "* About 15579 items\n",
      "* It has an approximated sparsity of 0.999696333961\n",
      "\n",
      "Now we are going to analyze the number of reviews per user and per item"
     ]
    },
    {
     "cell_type": "code",
     "collapsed": false,
     "input": [
      "import sys\n",
      "sys.path.append('/Users/fpena/UCC/Thesis/projects/yelp/source/python')\n",
      "from etl import ETLUtils\n",
      "\n",
      "from etl.reviews_dataset_analyzer import ReviewsDatasetAnalyzer\n",
      "\n",
      "# Load reviews\n",
      "file_path = '/Users/fpena/UCC/Thesis/datasets/yelp_phoenix_academic_dataset/filtered_reviews.json'\n",
      "reviews = ETLUtils.load_json_file(file_path)\n",
      "\n",
      "rda = ReviewsDatasetAnalyzer(reviews)\n"
     ],
     "language": "python",
     "metadata": {},
     "outputs": []
    },
    {
     "cell_type": "markdown",
     "metadata": {},
     "source": [
      "## Users Reviews Analysis\n",
      "* The average number of reviews per user is 4.73081322281\n",
      "* The minimum number of reviews a user has is 1\n",
      "* The maximum number of reviews a user has is 774"
     ]
    },
    {
     "cell_type": "code",
     "collapsed": false,
     "input": [
      "# Number of reviews per user\n",
      "users_summary = rda.summarize_reviews_by_field('user_id')\n",
      "print('Average number of reviews per user', float(rda.num_reviews)/rda.num_users)\n",
      "users_summary.plot(kind='line', rot=0)"
     ],
     "language": "python",
     "metadata": {},
     "outputs": []
    },
    {
     "cell_type": "markdown",
     "metadata": {},
     "source": [
      "## Items Reviews Analysis\n",
      "* The average number of reviews per item is 21.5047178895\n",
      "* The minimum number of reviews an item has is 1\n",
      "* The maximum number of reviews an item has is 1065"
     ]
    },
    {
     "cell_type": "code",
     "collapsed": false,
     "input": [
      "# Number of reviews per item\n",
      "items_summary = rda.summarize_reviews_by_field('offering_id')\n",
      "print('Average number of reviews per item', float(rda.num_reviews)/rda.num_items)\n",
      "items_summary.plot(kind='line', rot=0)"
     ],
     "language": "python",
     "metadata": {},
     "outputs": []
    },
    {
     "cell_type": "markdown",
     "metadata": {},
     "source": [
      "## Number of items 2 users have in common\n",
      "In this section we are going to count the number of items two users have in common"
     ]
    },
    {
     "cell_type": "code",
     "collapsed": false,
     "input": [
      "# Number of items 2 users have in common\n",
      "common_item_counts = rda.count_items_in_common()\n",
      "plt.plot(common_item_counts.keys(), common_item_counts.values())\n"
     ],
     "language": "python",
     "metadata": {},
     "outputs": []
    },
    {
     "cell_type": "code",
     "collapsed": false,
     "input": [
      "from pylab import boxplot\n",
      "my_data = [key for key, value in common_item_counts.iteritems() for i in xrange(value)]\n",
      "mean_common_items = float(sum(my_data))/len(my_data)\n",
      "print('Average number of common items between two users:', mean_common_items)\n",
      "boxplot(my_data)"
     ],
     "language": "python",
     "metadata": {},
     "outputs": []
    }
   ],
   "metadata": {}
  }
 ]
}