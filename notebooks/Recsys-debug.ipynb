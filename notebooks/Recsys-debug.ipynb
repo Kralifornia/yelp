{
 "metadata": {
  "name": "",
  "signature": "sha256:0847899eb6edcc1621e5b09bf11b71a591925913d1029126643915ebd7cb0ece"
 },
 "nbformat": 3,
 "nbformat_minor": 0,
 "worksheets": [
  {
   "cells": [
    {
     "cell_type": "markdown",
     "metadata": {},
     "source": [
      "# Debugging the recommender systems one by one\n",
      "\n",
      "In this notebook we are going to debug two recommender systems in order to find out how they are behaving. To achieve this, we do a step by step execution of the algorithms printing the values each variable has at each step. These are the steps we are going to follow:\n",
      "\n",
      "1. Load and shuffle the reviews\n",
      "2. Split the reviews into training and test set\n",
      "3. Select a review from the test set (a user, item, rating triplet). We will call the user MyUser, and the item MyItem.\n",
      "4. Predict the rating the user would give to the item\n",
      "    1. Find out which users have rated common items with MyUser. These will be the neighbours of MyUser.\n",
      "    2. For each neighbour, find out the similarity value it shares with MyUser.\n",
      "    3. Look for the items that the neigbour and MyUser have rated in common and assert that the similarity value is correct.\n",
      "    4. Manually calculate the predicted rating with the obtained values of the similarity and the ratings that the neighbours have given to MyItem\n",
      "    \n",
      "## Load and shuffle the reviews\n",
      "To accomplish this, we load and shuffle the reviews just once and then store the data in a file. Then we just load the file that contains the reviews already shuffled."
     ]
    },
    {
     "cell_type": "code",
     "collapsed": false,
     "input": [
      "import sys\n",
      "sys.path.append('/Users/fpena/UCC/Thesis/projects/yelp/source/python')\n",
      "from IPython.display import Math\n",
      "from etl import ETLUtils\n",
      "\n",
      "file_path = '/Users/fpena/tmp/filtered_reviews_multi_non_sparse_shuffled.json'\n",
      "reviews = ETLUtils.load_json_file(file_path)\n",
      "\n",
      "print(reviews[0])\n",
      "print(reviews[1])\n",
      "print(reviews[2])"
     ],
     "language": "python",
     "metadata": {},
     "outputs": [
      {
       "output_type": "stream",
       "stream": "stdout",
       "text": [
        "{u'multi_ratings': [4.0, 5.0, 4.0, 4.0, 4.0], u'user_id': u'CATID_', u'offering_id': 93618, u'overall_rating': 5.0}\n",
        "{u'multi_ratings': [4.0, 4.0, 4.0, 4.0, 4.0], u'user_id': u'CC813BCDB9DA614B728B36E92E27BF9B', u'offering_id': 78046, u'overall_rating': 4.0}\n",
        "{u'multi_ratings': [5.0, 5.0, 4.0, 5.0, 4.0], u'user_id': u'9FF630DF29C67791978600FC5B2DBFE8', u'offering_id': 1218792, u'overall_rating': 4.0}\n"
       ]
      }
     ],
     "prompt_number": 43
    },
    {
     "cell_type": "markdown",
     "metadata": {},
     "source": [
      "From the above code, we can see that the reviews are loaded as expected. Now we proceed to split the dataset into the training set and the test set.\n",
      "\n",
      "## Split the reviews into training and test set\n",
      "\n",
      "This is pretty straightforward, we just use one of the methods contained in the ETLUtils class."
     ]
    },
    {
     "cell_type": "code",
     "collapsed": false,
     "input": [
      "train, test = ETLUtils.split_train_test(reviews, split=0.8, start=0.2, shuffle_data=False)\n",
      "\n",
      "print('Training')\n",
      "print(train[0])\n",
      "print(train[1])\n",
      "print(train[2])\n",
      "\n",
      "print('\\nTest')\n",
      "print(test[0])\n",
      "print(test[1])\n",
      "print(test[2])"
     ],
     "language": "python",
     "metadata": {},
     "outputs": [
      {
       "output_type": "stream",
       "stream": "stdout",
       "text": [
        "Training\n",
        "{u'multi_ratings': [4.0, 5.0, 2.0, 4.0, 3.0], u'user_id': u'44F4B94E47AE70D65C2A98F6EBFAAFF4', u'offering_id': 98452, u'overall_rating': 3.0}\n",
        "{u'multi_ratings': [2.0, 4.0, 3.0, 2.0, 5.0], u'user_id': u'CATID_', u'offering_id': 78046, u'overall_rating': 3.0}\n",
        "{u'multi_ratings': [5.0, 5.0, 3.0, 3.0, 4.0], u'user_id': u'3BFADBAEA5E11139E082E02E6388BBAE', u'offering_id': 81461, u'overall_rating': 4.0}\n",
        "\n",
        "Test\n",
        "{u'multi_ratings': [4.0, 5.0, 4.0, 4.0, 4.0], u'user_id': u'CATID_', u'offering_id': 93618, u'overall_rating': 5.0}\n",
        "{u'multi_ratings': [4.0, 4.0, 4.0, 4.0, 4.0], u'user_id': u'CC813BCDB9DA614B728B36E92E27BF9B', u'offering_id': 78046, u'overall_rating': 4.0}\n",
        "{u'multi_ratings': [5.0, 5.0, 4.0, 5.0, 4.0], u'user_id': u'9FF630DF29C67791978600FC5B2DBFE8', u'offering_id': 1218792, u'overall_rating': 4.0}\n"
       ]
      }
     ],
     "prompt_number": 44
    },
    {
     "cell_type": "markdown",
     "metadata": {},
     "source": [
      "In the above code, we are telling the split_train_test method that we want to split the data into a 80-20 way, the parameter split=0.8 indicates that the size of the training data should be of 80%. We are also telling the method that we want the training data to start after the 20% of the list. This means that the training data will go from 20% of the list to 100%, and the test data is the remaining, i.e. from 0% to 20%. A graphical way to express this is [OXXXX], where O is the test data and X is the training data.\n",
      "\n",
      "In the output we can see that the first three records of the test set are the same as the first three records of the whole reviews set, which is something we expected.\n",
      "\n",
      "## Select a review from the test set\n",
      "\n",
      "After playing around with different sets, we have manually chose three reviews that can illustrate very well how is the recommender system working. We have chose these reviews because the users in them have more than one neighbour, and in some cases the neighbours share more than one item in common.\n",
      "\n",
      "The three selected reviews are in the positions 1, 2 and 8 of the test data set."
     ]
    },
    {
     "cell_type": "code",
     "collapsed": false,
     "input": [
      "print(test[1])\n",
      "print(test[2])\n",
      "print(test[8])"
     ],
     "language": "python",
     "metadata": {},
     "outputs": [
      {
       "output_type": "stream",
       "stream": "stdout",
       "text": [
        "{u'multi_ratings': [4.0, 4.0, 4.0, 4.0, 4.0], u'user_id': u'CC813BCDB9DA614B728B36E92E27BF9B', u'offering_id': 78046, u'overall_rating': 4.0}\n",
        "{u'multi_ratings': [5.0, 5.0, 4.0, 5.0, 4.0], u'user_id': u'9FF630DF29C67791978600FC5B2DBFE8', u'offering_id': 1218792, u'overall_rating': 4.0}\n",
        "{u'multi_ratings': [4.0, 5.0, 4.0, 5.0, 5.0], u'user_id': u'02860EA0ED535DE587635F1F8FC7D0C0', u'offering_id': 84079, u'overall_rating': 5.0}\n"
       ]
      }
     ],
     "prompt_number": 45
    },
    {
     "cell_type": "markdown",
     "metadata": {},
     "source": [
      "## Predict the rating MyUser would give to the MyItem\n",
      "\n",
      "In order to predict the rating, the first thing we are going to do is create an instance of the recommender system and then load the training data into the recommender. We will also set the maximum number of nighbours as 5. We can achive that with the following code:"
     ]
    },
    {
     "cell_type": "code",
     "collapsed": false,
     "input": [
      "from recommenders.weighted_sum_recommender import WeightedSumRecommender\n",
      "from recommenders.similarity.single_similarity_matrix_builder import SingleSimilarityMatrixBuilder\n",
      "from recommenders.adjusted_weighted_sum_recommender import AdjustedWeightedSumRecommender\n",
      "from recommenders.average_recommender import AverageRecommender\n",
      "from recommenders.dummy_recommender import DummyRecommender\n",
      "\n",
      "recommender = WeightedSumRecommender(SingleSimilarityMatrixBuilder('euclidean'))\n",
      "recommender._num_neighbors = 5\n",
      "recommender.load(train)"
     ],
     "language": "python",
     "metadata": {},
     "outputs": [],
     "prompt_number": 46
    },
    {
     "cell_type": "markdown",
     "metadata": {},
     "source": [
      "We will also create several recommenders to compare their performance"
     ]
    },
    {
     "cell_type": "code",
     "collapsed": false,
     "input": [
      "ws_recommender = WeightedSumRecommender(SingleSimilarityMatrixBuilder('euclidean'))\n",
      "ws_recommender._num_neighbors = 5\n",
      "ws_recommender.load(train)\n",
      "\n",
      "aws_recommender = AdjustedWeightedSumRecommender(SingleSimilarityMatrixBuilder('euclidean'))\n",
      "aws_recommender._num_neighbors = 5\n",
      "aws_recommender.load(train)\n",
      "\n",
      "avg_recommender = AverageRecommender()\n",
      "avg_recommender.load(train)\n",
      "\n",
      "dummy_recommender = DummyRecommender(4.0)"
     ],
     "language": "python",
     "metadata": {},
     "outputs": [
      {
       "output_type": "stream",
       "stream": "stdout",
       "text": [
        "('Mean rating:', 3.913245873889124)\n"
       ]
      }
     ],
     "prompt_number": 47
    },
    {
     "cell_type": "markdown",
     "metadata": {},
     "source": [
      "### Review 1\n",
      "\n",
      "For this review we have the following information"
     ]
    },
    {
     "cell_type": "code",
     "collapsed": false,
     "input": [
      "my_review = test[1]\n",
      "user_id = my_review['user_id']\n",
      "item_id = my_review['offering_id']\n",
      "rating = my_review['overall_rating']\n",
      "\n",
      "print('User ID:', user_id)\n",
      "print('Item ID:', item_id)\n",
      "print('Rating:', rating)"
     ],
     "language": "python",
     "metadata": {},
     "outputs": [
      {
       "output_type": "stream",
       "stream": "stdout",
       "text": [
        "('User ID:', u'CC813BCDB9DA614B728B36E92E27BF9B')\n",
        "('Item ID:', 78046)\n",
        "('Rating:', 4.0)\n"
       ]
      }
     ],
     "prompt_number": 48
    },
    {
     "cell_type": "markdown",
     "metadata": {},
     "source": [
      "### Find out which users have rated common items with MyUser\n",
      "\n",
      "\n"
     ]
    },
    {
     "cell_type": "code",
     "collapsed": false,
     "input": [
      "# If the user is not in the training set, then we can't predict the rating\n",
      "if user_id not in recommender.user_ids:\n",
      "    predicted_rating = None\n",
      "\n",
      "# We obtain the neighbours of the user\n",
      "# The neighbourhood is the set of users that have rated the same item as MyUser in the training set\n",
      "# and that also have rated MyItem\n",
      "neighbourhood = recommender.get_neighbourhood(user_id, item_id)"
     ],
     "language": "python",
     "metadata": {},
     "outputs": [],
     "prompt_number": 49
    },
    {
     "cell_type": "markdown",
     "metadata": {},
     "source": [
      "For this particular user, the neighbourhood size is:"
     ]
    },
    {
     "cell_type": "code",
     "collapsed": false,
     "input": [
      "print('Neighbourhood size:', len(neighbourhood))"
     ],
     "language": "python",
     "metadata": {},
     "outputs": [
      {
       "output_type": "stream",
       "stream": "stdout",
       "text": [
        "('Neighbourhood size:', 3)\n"
       ]
      }
     ],
     "prompt_number": 50
    },
    {
     "cell_type": "markdown",
     "metadata": {},
     "source": [
      "And the neighbours are:"
     ]
    },
    {
     "cell_type": "code",
     "collapsed": false,
     "input": [
      "for neighbour in neighbourhood:\n",
      "    print(neighbour)"
     ],
     "language": "python",
     "metadata": {},
     "outputs": [
      {
       "output_type": "stream",
       "stream": "stdout",
       "text": [
        "113CB53AD6CF0EEC7427F804A7D0607E\n",
        "DCCD38C886A7C72C215AFCCB625AC03C\n",
        "6562BBD4EA770FE84E579622F68FA181\n"
       ]
      }
     ],
     "prompt_number": 51
    },
    {
     "cell_type": "markdown",
     "metadata": {},
     "source": [
      "### For each neighbour, find out the similarity value it shares with MyUser\n",
      "\n",
      "For each neighbour, we are going to print its user_id, the similarity it has with MyUser, and the rating it has given to item_id"
     ]
    },
    {
     "cell_type": "code",
     "collapsed": false,
     "input": [
      "for neighbour in neighbourhood:\n",
      "    print('User ID:', neighbour,\n",
      "          'Similarity', recommender.user_similarity_matrix[neighbour][user_id],\n",
      "          'Rating:', recommender.user_dictionary[neighbour].item_ratings[item_id])"
     ],
     "language": "python",
     "metadata": {},
     "outputs": [
      {
       "output_type": "stream",
       "stream": "stdout",
       "text": [
        "('User ID:', u'113CB53AD6CF0EEC7427F804A7D0607E', 'Similarity', 0.5, 'Rating:', 3.0)\n",
        "('User ID:', u'DCCD38C886A7C72C215AFCCB625AC03C', 'Similarity', 0.33333333333333331, 'Rating:', 4.0)\n",
        "('User ID:', u'6562BBD4EA770FE84E579622F68FA181', 'Similarity', 0.33333333333333331, 'Rating:', 3.0)\n"
       ]
      }
     ],
     "prompt_number": 52
    },
    {
     "cell_type": "markdown",
     "metadata": {},
     "source": [
      "### Look for the items that the neigbour and MyUser have rated in common and assert that the similarity value is correct.\n",
      "\n",
      "Now we are going to verify that the similarity values are correct. To do so, we are going to see the items that the neighbours have in common with MyUser"
     ]
    },
    {
     "cell_type": "code",
     "collapsed": false,
     "input": [
      "from tripadvisor.fourcity import extractor\n",
      "\n",
      "for neighbour in neighbourhood:\n",
      "    print('User ID:', neighbour,\n",
      "          'Common items:', extractor.get_common_items(recommender.user_dictionary, user_id, neighbour))"
     ],
     "language": "python",
     "metadata": {},
     "outputs": [
      {
       "output_type": "stream",
       "stream": "stdout",
       "text": [
        "('User ID:', u'113CB53AD6CF0EEC7427F804A7D0607E', 'Common items:', set([611947]))\n",
        "('User ID:', u'DCCD38C886A7C72C215AFCCB625AC03C', 'Common items:', set([93352]))\n",
        "('User ID:', u'6562BBD4EA770FE84E579622F68FA181', 'Common items:', set([611947]))\n"
       ]
      }
     ],
     "prompt_number": 53
    },
    {
     "cell_type": "markdown",
     "metadata": {},
     "source": [
      "For each neighbour we are going to calculate the similarity by comparing the rating they have given to the item, with MyUser's rating, and then manually calculate the euclidean similarity by using the formula similarity = 1 / (1 + euclidean_distance)"
     ]
    },
    {
     "cell_type": "code",
     "collapsed": false,
     "input": [
      "neighbour_id = '113CB53AD6CF0EEC7427F804A7D0607E'\n",
      "neughbour_item = 611947\n",
      "my_user_rating = recommender.user_dictionary[user_id].item_ratings[neughbour_item]\n",
      "neighbour_rating = recommender.user_dictionary[neighbour_id].item_ratings[neughbour_item]\n",
      "print('Neighbour ID:', neighbour_id,\n",
      "      'MyUser rating:', my_user_rating,\n",
      "      'Neighbour rating:', neighbour_rating,\n",
      "      'Similarity:', (1/(1 + ((my_user_rating - neighbour_rating) ** 2)**0.5)))\n",
      "\n",
      "neighbour_id = 'DCCD38C886A7C72C215AFCCB625AC03C'\n",
      "neughbour_item = 93352\n",
      "my_user_rating = recommender.user_dictionary[user_id].item_ratings[neughbour_item]\n",
      "neighbour_rating = recommender.user_dictionary[neighbour_id].item_ratings[neughbour_item]\n",
      "print('Neighbour ID:', neighbour_id,\n",
      "      'MyUser rating:', my_user_rating,\n",
      "      'Neighbour rating:', neighbour_rating,\n",
      "      'Similarity:', (1/(1 + ((my_user_rating - neighbour_rating) ** 2)**0.5)))\n",
      "\n",
      "neighbour_id = '6562BBD4EA770FE84E579622F68FA181'\n",
      "neughbour_item = 611947\n",
      "my_user_rating = recommender.user_dictionary[user_id].item_ratings[neughbour_item]\n",
      "neighbour_rating = recommender.user_dictionary[neighbour_id].item_ratings[neughbour_item]\n",
      "print('Neighbour ID:', neighbour_id,\n",
      "      'MyUser rating:', my_user_rating,\n",
      "      'Neighbour rating:', neighbour_rating,\n",
      "      'Similarity:', (1/(1 + ((my_user_rating - neighbour_rating) ** 2)**0.5)))"
     ],
     "language": "python",
     "metadata": {},
     "outputs": [
      {
       "output_type": "stream",
       "stream": "stdout",
       "text": [
        "('Neighbour ID:', '113CB53AD6CF0EEC7427F804A7D0607E', 'MyUser rating:', 4.0, 'Neighbour rating:', 5.0, 'Similarity:', 0.5)\n",
        "('Neighbour ID:', 'DCCD38C886A7C72C215AFCCB625AC03C', 'MyUser rating:', 5.0, 'Neighbour rating:', 3.0, 'Similarity:', 0.33333333333333331)\n",
        "('Neighbour ID:', '6562BBD4EA770FE84E579622F68FA181', 'MyUser rating:', 4.0, 'Neighbour rating:', 2.0, 'Similarity:', 0.33333333333333331)\n"
       ]
      }
     ],
     "prompt_number": 54
    },
    {
     "cell_type": "markdown",
     "metadata": {},
     "source": [
      "As we can see in the above steps, the similarity values are correct."
     ]
    },
    {
     "cell_type": "markdown",
     "metadata": {},
     "source": [
      "### Manually calculate the predicted rating with the obtained values of the similarity and the ratings that the neighbours have given to MyItem\n",
      "\n",
      "For this step we are going to use some information we have calculated above, in order to make it more clear, we are going to paste the same code again:"
     ]
    },
    {
     "cell_type": "code",
     "collapsed": false,
     "input": [
      "for neighbour in neighbourhood:\n",
      "    print('User ID:', neighbour,\n",
      "          'Similarity', recommender.user_similarity_matrix[neighbour][user_id],\n",
      "          'Item rating:', recommender.user_dictionary[neighbour].item_ratings[item_id],\n",
      "          'Average rating:', recommender.user_dictionary[neighbour].average_overall_rating)"
     ],
     "language": "python",
     "metadata": {},
     "outputs": [
      {
       "output_type": "stream",
       "stream": "stdout",
       "text": [
        "('User ID:', u'113CB53AD6CF0EEC7427F804A7D0607E', 'Similarity', 0.5, 'Item rating:', 3.0, 'Average rating:', 4.285714285714286)\n",
        "('User ID:', u'DCCD38C886A7C72C215AFCCB625AC03C', 'Similarity', 0.33333333333333331, 'Item rating:', 4.0, 'Average rating:', 3.4285714285714284)\n",
        "('User ID:', u'6562BBD4EA770FE84E579622F68FA181', 'Similarity', 0.33333333333333331, 'Item rating:', 3.0, 'Average rating:', 3.7857142857142856)\n"
       ]
      }
     ],
     "prompt_number": 55
    },
    {
     "cell_type": "markdown",
     "metadata": {},
     "source": [
      "With this information, we can now calculate the predicted rating using the weighted sum recommender formula:"
     ]
    },
    {
     "cell_type": "code",
     "collapsed": false,
     "input": [
      "Math(r'R(u,i) = z \\sum_{u` \\in N(u)} sim(u,u`) \\cdot R(u` ,i)')"
     ],
     "language": "python",
     "metadata": {},
     "outputs": [
      {
       "latex": [
        "$$R(u,i) = z \\sum_{u` \\in N(u)} sim(u,u`) \\cdot R(u` ,i)$$"
       ],
       "metadata": {},
       "output_type": "pyout",
       "prompt_number": 56,
       "text": [
        "<IPython.core.display.Math at 0x1093269d0>"
       ]
      }
     ],
     "prompt_number": 56
    },
    {
     "cell_type": "markdown",
     "metadata": {},
     "source": [
      "and the adjusted weighted sum recommender formula:"
     ]
    },
    {
     "cell_type": "code",
     "collapsed": false,
     "input": [
      "Math(r'R(u,i) = \\overline{R(u)} + z \\sum_{u` \\in N(u)} sim(u,u`) \\cdot (R(u` ,i) - \\overline{R(u`)})')"
     ],
     "language": "python",
     "metadata": {},
     "outputs": [
      {
       "latex": [
        "$$R(u,i) = \\overline{R(u)} + z \\sum_{u` \\in N(u)} sim(u,u`) \\cdot (R(u` ,i) - \\overline{R(u`)})$$"
       ],
       "metadata": {},
       "output_type": "pyout",
       "prompt_number": 57,
       "text": [
        "<IPython.core.display.Math at 0x1092fefd0>"
       ]
      }
     ],
     "prompt_number": 57
    },
    {
     "cell_type": "markdown",
     "metadata": {},
     "source": [
      "where"
     ]
    },
    {
     "cell_type": "code",
     "collapsed": false,
     "input": [
      "Math(r'z = \\frac{1}{\\sum_{u` \\in N(u)} sim(u,u`)}')"
     ],
     "language": "python",
     "metadata": {},
     "outputs": [
      {
       "latex": [
        "$$z = \\frac{1}{\\sum_{u` \\in N(u)} sim(u,u`)}$$"
       ],
       "metadata": {},
       "output_type": "pyout",
       "prompt_number": 58,
       "text": [
        "<IPython.core.display.Math at 0x10927bad0>"
       ]
      }
     ],
     "prompt_number": 58
    },
    {
     "cell_type": "markdown",
     "metadata": {},
     "source": [
      "So the predicted rating that MyUser would give to MyItem is:"
     ]
    },
    {
     "cell_type": "code",
     "collapsed": false,
     "input": [
      "my_review = test[1]\n",
      "user_id = my_review['user_id']\n",
      "item_id = my_review['offering_id']\n",
      "rating = my_review['overall_rating']\n",
      "\n",
      "# Weighted sum recommender\n",
      "denominator = 0.5 + 0.333 + 0.333\n",
      "ws_numerator = 0.5 * 3.0 + 0.333 * 4.0 + 0.333 * 3.0\n",
      "ws_predicted_rating = ws_numerator / denominator\n",
      "print('Manual weighted sum predicted Rating:', ws_predicted_rating)\n",
      "print('Weighted sum recommender system predicted rating:', ws_recommender.predict_rating(user_id, item_id))\n",
      "\n",
      "# Adjusted weighted sum recommender\n",
      "\n",
      "user_average_rating = recommender.user_dictionary[user_id].average_overall_rating\n",
      "aws_numerator = 0.5 * (3.0 - 4.286) + 0.333 * (4.0 - 3.429) + 0.333 * (3.0 - 3.786)\n",
      "aws_predicted_rating = user_average_rating + aws_numerator / denominator\n",
      "print('Manual adjusted weighted sum predicted Rating:', aws_predicted_rating)\n",
      "print('Adjusted weighted sum recommender system predicted rating:', aws_recommender.predict_rating(user_id, item_id))\n",
      "print('Average recommender rating:', avg_recommender.predict_rating(user_id, item_id))\n",
      "print('Dummy recommender rating:', dummy_recommender.predict_rating(user_id, item_id))\n",
      "\n",
      "actual_rating = my_review['overall_rating']\n",
      "print('Actual rating:', actual_rating)\n",
      "\n",
      "ws_error = abs(actual_rating -  ws_predicted_rating)\n",
      "aws_error = abs(actual_rating -  aws_predicted_rating)\n",
      "avg_error = abs(actual_rating -  avg_recommender.predict_rating(user_id, item_id))\n",
      "dummy_error = abs(actual_rating -  dummy_recommender.predict_rating(user_id, item_id))\n",
      "print('Errors:', 'WS:', ws_error, 'AWS:', aws_error, 'AVG:', avg_error, 'Dummy:', dummy_error)"
     ],
     "language": "python",
     "metadata": {},
     "outputs": [
      {
       "output_type": "stream",
       "stream": "stdout",
       "text": [
        "('Manual weighted sum predicted Rating:', 3.2855917667238423)\n",
        "('Weighted sum recommender system predicted rating:', 3.285714285714286)\n",
        "('Manual adjusted weighted sum predicted Rating:', 3.387139794168096)\n",
        "('Neighbourhood: ', 3, u'CC813BCDB9DA614B728B36E92E27BF9B', 78046)\n",
        "('Adjusted weighted sum recommender system predicted rating:', 3.3877551020408161)\n",
        "('Average recommender rating:', 3.913245873889124)\n",
        "('Dummy recommender rating:', 4.0)\n",
        "('Actual rating:', 4.0)\n",
        "('Errors:', 'WS:', 0.7144082332761577, 'AWS:', 0.6128602058319039, 'AVG:', 0.086754126110875962, 'Dummy:', 0.0)\n"
       ]
      }
     ],
     "prompt_number": 59
    },
    {
     "cell_type": "markdown",
     "metadata": {},
     "source": [
      "### Review 2\n",
      "\n",
      "For this review we have the following information"
     ]
    },
    {
     "cell_type": "code",
     "collapsed": false,
     "input": [
      "my_review = test[2]\n",
      "user_id = my_review['user_id']\n",
      "item_id = my_review['offering_id']\n",
      "rating = my_review['overall_rating']\n",
      "\n",
      "print('User ID:', user_id)\n",
      "print('Item ID:', item_id)\n",
      "print('Rating:', rating)"
     ],
     "language": "python",
     "metadata": {},
     "outputs": [
      {
       "output_type": "stream",
       "stream": "stdout",
       "text": [
        "('User ID:', u'9FF630DF29C67791978600FC5B2DBFE8')\n",
        "('Item ID:', 1218792)\n",
        "('Rating:', 4.0)\n"
       ]
      }
     ],
     "prompt_number": 60
    },
    {
     "cell_type": "markdown",
     "metadata": {},
     "source": [
      "### Find out which users have rated common items with MyUser\n",
      "\n",
      "\n"
     ]
    },
    {
     "cell_type": "code",
     "collapsed": false,
     "input": [
      "# If the user is not in the training set, then we can't predict the rating\n",
      "if user_id not in recommender.user_ids:\n",
      "    predicted_rating = None\n",
      "\n",
      "# We obtain the neighbours of the user\n",
      "# The neighbourhood is the set of users that have rated the same item as MyUser in the training set\n",
      "# and that also have rated MyItem\n",
      "neighbourhood = recommender.get_neighbourhood(user_id, item_id)"
     ],
     "language": "python",
     "metadata": {},
     "outputs": [],
     "prompt_number": 61
    },
    {
     "cell_type": "markdown",
     "metadata": {},
     "source": [
      "For this particular user, the neighbourhood size is:"
     ]
    },
    {
     "cell_type": "code",
     "collapsed": false,
     "input": [
      "print('Neighbourhood size:', len(neighbourhood))"
     ],
     "language": "python",
     "metadata": {},
     "outputs": [
      {
       "output_type": "stream",
       "stream": "stdout",
       "text": [
        "('Neighbourhood size:', 9)\n"
       ]
      }
     ],
     "prompt_number": 62
    },
    {
     "cell_type": "markdown",
     "metadata": {},
     "source": [
      "And the neighbours are:"
     ]
    },
    {
     "cell_type": "code",
     "collapsed": false,
     "input": [
      "for neighbour in neighbourhood:\n",
      "    print(neighbour)"
     ],
     "language": "python",
     "metadata": {},
     "outputs": [
      {
       "output_type": "stream",
       "stream": "stdout",
       "text": [
        "1609426679198144A65A85C951CEFEF3\n",
        "997502F65A2DC9C0664EF9990ABDC125\n",
        "1CE94B8ABEB460F3719B9CE9EE1E476C\n",
        "43015504348C59179CDA040A674CFA7E\n",
        "249063E5108AA2DA3728ACE7D7FCB0AE\n",
        "EE8824C794ADC33CFEAEEF77EAD5F330\n",
        "FE60DF6C1DAF87EE95521FFF608F70C9\n",
        "CFC4C5EF9E8FCE021B149F0A9819CD64\n",
        "996B94C522AFCBA60A57F86D7019C7A7\n"
       ]
      }
     ],
     "prompt_number": 63
    },
    {
     "cell_type": "markdown",
     "metadata": {},
     "source": [
      "### For each neighbour, find out the similarity value it shares with MyUser\n",
      "\n",
      "For each neighbour, we are going to print its user_id, the similarity it has with MyUser, and the rating it has given to item_id"
     ]
    },
    {
     "cell_type": "code",
     "collapsed": false,
     "input": [
      "for neighbour in neighbourhood:\n",
      "    print('User ID:', neighbour,\n",
      "          'Similarity', recommender.user_similarity_matrix[neighbour][user_id],\n",
      "          'Rating:', recommender.user_dictionary[neighbour].item_ratings[item_id])"
     ],
     "language": "python",
     "metadata": {},
     "outputs": [
      {
       "output_type": "stream",
       "stream": "stdout",
       "text": [
        "('User ID:', u'1609426679198144A65A85C951CEFEF3', 'Similarity', 1.0, 'Rating:', 4.0)\n",
        "('User ID:', u'997502F65A2DC9C0664EF9990ABDC125', 'Similarity', 1.0, 'Rating:', 3.0)\n",
        "('User ID:', u'1CE94B8ABEB460F3719B9CE9EE1E476C', 'Similarity', 1.0, 'Rating:', 2.0)\n",
        "('User ID:', u'43015504348C59179CDA040A674CFA7E', 'Similarity', 1.0, 'Rating:', 4.0)\n",
        "('User ID:', u'249063E5108AA2DA3728ACE7D7FCB0AE', 'Similarity', 0.5, 'Rating:', 5.0)\n",
        "('User ID:', u'EE8824C794ADC33CFEAEEF77EAD5F330', 'Similarity', 0.5, 'Rating:', 5.0)\n",
        "('User ID:', u'FE60DF6C1DAF87EE95521FFF608F70C9', 'Similarity', 0.5, 'Rating:', 4.0)\n",
        "('User ID:', u'CFC4C5EF9E8FCE021B149F0A9819CD64', 'Similarity', 0.5, 'Rating:', 4.0)\n",
        "('User ID:', u'996B94C522AFCBA60A57F86D7019C7A7', 'Similarity', 0.5, 'Rating:', 5.0)\n"
       ]
      }
     ],
     "prompt_number": 64
    },
    {
     "cell_type": "markdown",
     "metadata": {},
     "source": [
      "### Look for the items that the neigbour and MyUser have rated in common and assert that the similarity value is correct.\n",
      "\n",
      "Now we are going to verify that the similarity values are correct. To do so, we are going to see the items that the neighbours have in common with MyUser. We will do this just for the first 5 items, because we are only considering the "
     ]
    },
    {
     "cell_type": "code",
     "collapsed": false,
     "input": [
      "from tripadvisor.fourcity import extractor\n",
      "\n",
      "for neighbour in neighbourhood[:5]:\n",
      "    print('User ID:', neighbour,\n",
      "          'Common items:', extractor.get_common_items(recommender.user_dictionary, user_id, neighbour))"
     ],
     "language": "python",
     "metadata": {},
     "outputs": [
      {
       "output_type": "stream",
       "stream": "stdout",
       "text": [
        "('User ID:', u'1609426679198144A65A85C951CEFEF3', 'Common items:', set([102466]))\n",
        "('User ID:', u'997502F65A2DC9C0664EF9990ABDC125', 'Common items:', set([102466]))\n",
        "('User ID:', u'1CE94B8ABEB460F3719B9CE9EE1E476C', 'Common items:', set([96688, 102466]))\n",
        "('User ID:', u'43015504348C59179CDA040A674CFA7E', 'Common items:', set([99352]))\n",
        "('User ID:', u'249063E5108AA2DA3728ACE7D7FCB0AE', 'Common items:', set([81295]))\n"
       ]
      }
     ],
     "prompt_number": 65
    },
    {
     "cell_type": "markdown",
     "metadata": {},
     "source": [
      "For each neighbour we are going to calculate the similarity by comparing the rating they have given to the item, with MyUser's rating, and then manually calculate the euclidean similarity by using the formula similarity = 1 / (1 + euclidean_distance)"
     ]
    },
    {
     "cell_type": "code",
     "collapsed": false,
     "input": [
      "neighbour_id = '1609426679198144A65A85C951CEFEF3'\n",
      "neughbour_item = 102466\n",
      "my_user_rating = recommender.user_dictionary[user_id].item_ratings[neughbour_item]\n",
      "neighbour_rating = recommender.user_dictionary[neighbour_id].item_ratings[neughbour_item]\n",
      "print('Neighbour ID:', neighbour_id,\n",
      "      'MyUser rating:', my_user_rating,\n",
      "      'Neighbour rating:', neighbour_rating,\n",
      "      'Similarity:', (1/(1 + ((my_user_rating - neighbour_rating) ** 2)**0.5)))\n",
      "\n",
      "neighbour_id = '997502F65A2DC9C0664EF9990ABDC125'\n",
      "neughbour_item = 102466\n",
      "my_user_rating = recommender.user_dictionary[user_id].item_ratings[neughbour_item]\n",
      "neighbour_rating = recommender.user_dictionary[neighbour_id].item_ratings[neughbour_item]\n",
      "print('Neighbour ID:', neighbour_id,\n",
      "      'MyUser rating:', my_user_rating,\n",
      "      'Neighbour rating:', neighbour_rating,\n",
      "      'Similarity:', (1/(1 + ((my_user_rating - neighbour_rating) ** 2)**0.5)))\n",
      "\n",
      "neighbour_id = '1CE94B8ABEB460F3719B9CE9EE1E476C'\n",
      "neighbour_item1 = 96688\n",
      "neighbour_item2 = 102466\n",
      "my_user_rating1 = recommender.user_dictionary[user_id].item_ratings[neighbour_item1]\n",
      "my_user_rating2 = recommender.user_dictionary[user_id].item_ratings[neighbour_item2]\n",
      "neighbour_rating1 = recommender.user_dictionary[neighbour_id].item_ratings[neighbour_item1]\n",
      "neighbour_rating2 = recommender.user_dictionary[neighbour_id].item_ratings[neighbour_item2]\n",
      "print('Neighbour ID:', neighbour_id,\n",
      "      'MyUser rating:', my_user_rating,\n",
      "      'Neighbour rating:', neighbour_rating,\n",
      "      'Similarity:', (1/(1 + ((my_user_rating1 - neighbour_rating1)**2 + (my_user_rating2 - neighbour_rating2)**2)**0.5)))\n",
      "\n",
      "neighbour_id = '43015504348C59179CDA040A674CFA7E'\n",
      "neughbour_item = 99352\n",
      "my_user_rating = recommender.user_dictionary[user_id].item_ratings[neughbour_item]\n",
      "neighbour_rating = recommender.user_dictionary[neighbour_id].item_ratings[neughbour_item]\n",
      "print('Neighbour ID:', neighbour_id,\n",
      "      'MyUser rating:', my_user_rating,\n",
      "      'Neighbour rating:', neighbour_rating,\n",
      "      'Similarity:', (1/(1 + ((my_user_rating - neighbour_rating) ** 2)**0.5)))\n",
      "\n",
      "neighbour_id = '249063E5108AA2DA3728ACE7D7FCB0AE'\n",
      "neughbour_item = 81295\n",
      "my_user_rating = recommender.user_dictionary[user_id].item_ratings[neughbour_item]\n",
      "neighbour_rating = recommender.user_dictionary[neighbour_id].item_ratings[neughbour_item]\n",
      "print('Neighbour ID:', neighbour_id,\n",
      "      'MyUser rating:', my_user_rating,\n",
      "      'Neighbour rating:', neighbour_rating,\n",
      "      'Similarity:', (1/(1 + ((my_user_rating - neighbour_rating) ** 2)**0.5)))"
     ],
     "language": "python",
     "metadata": {},
     "outputs": [
      {
       "output_type": "stream",
       "stream": "stdout",
       "text": [
        "('Neighbour ID:', '1609426679198144A65A85C951CEFEF3', 'MyUser rating:', 4.0, 'Neighbour rating:', 4.0, 'Similarity:', 1.0)\n",
        "('Neighbour ID:', '997502F65A2DC9C0664EF9990ABDC125', 'MyUser rating:', 4.0, 'Neighbour rating:', 4.0, 'Similarity:', 1.0)\n",
        "('Neighbour ID:', '1CE94B8ABEB460F3719B9CE9EE1E476C', 'MyUser rating:', 4.0, 'Neighbour rating:', 4.0, 'Similarity:', 1.0)\n",
        "('Neighbour ID:', '43015504348C59179CDA040A674CFA7E', 'MyUser rating:', 5.0, 'Neighbour rating:', 5.0, 'Similarity:', 1.0)\n",
        "('Neighbour ID:', '249063E5108AA2DA3728ACE7D7FCB0AE', 'MyUser rating:', 4.0, 'Neighbour rating:', 3.0, 'Similarity:', 0.5)\n"
       ]
      }
     ],
     "prompt_number": 66
    },
    {
     "cell_type": "markdown",
     "metadata": {},
     "source": [
      "As we can see in the above steps, the similarity values are correct."
     ]
    },
    {
     "cell_type": "markdown",
     "metadata": {},
     "source": [
      "### Manually calculate the predicted rating with the obtained values of the similarity and the ratings that the neighbours have given to MyItem\n",
      "\n",
      "For this step we are going to use some information we have calculated above, in order to make it more clear, we are going to paste the same code again:"
     ]
    },
    {
     "cell_type": "code",
     "collapsed": false,
     "input": [
      "for neighbour in neighbourhood:\n",
      "    print('User ID:', neighbour,\n",
      "          'Similarity', recommender.user_similarity_matrix[neighbour][user_id],\n",
      "          'Item rating:', recommender.user_dictionary[neighbour].item_ratings[item_id],\n",
      "          'Average rating:', recommender.user_dictionary[neighbour].average_overall_rating)"
     ],
     "language": "python",
     "metadata": {},
     "outputs": [
      {
       "output_type": "stream",
       "stream": "stdout",
       "text": [
        "('User ID:', u'1609426679198144A65A85C951CEFEF3', 'Similarity', 1.0, 'Item rating:', 4.0, 'Average rating:', 4.0)\n",
        "('User ID:', u'997502F65A2DC9C0664EF9990ABDC125', 'Similarity', 1.0, 'Item rating:', 3.0, 'Average rating:', 3.875)\n",
        "('User ID:', u'1CE94B8ABEB460F3719B9CE9EE1E476C', 'Similarity', 1.0, 'Item rating:', 2.0, 'Average rating:', 3.3333333333333335)\n",
        "('User ID:', u'43015504348C59179CDA040A674CFA7E', 'Similarity', 1.0, 'Item rating:', 4.0, 'Average rating:', 4.333333333333333)\n",
        "('User ID:', u'249063E5108AA2DA3728ACE7D7FCB0AE', 'Similarity', 0.5, 'Item rating:', 5.0, 'Average rating:', 3.6666666666666665)\n",
        "('User ID:', u'EE8824C794ADC33CFEAEEF77EAD5F330', 'Similarity', 0.5, 'Item rating:', 5.0, 'Average rating:', 4.0)\n",
        "('User ID:', u'FE60DF6C1DAF87EE95521FFF608F70C9', 'Similarity', 0.5, 'Item rating:', 4.0, 'Average rating:', 4.0)\n",
        "('User ID:', u'CFC4C5EF9E8FCE021B149F0A9819CD64', 'Similarity', 0.5, 'Item rating:', 4.0, 'Average rating:', 4.0)\n",
        "('User ID:', u'996B94C522AFCBA60A57F86D7019C7A7', 'Similarity', 0.5, 'Item rating:', 5.0, 'Average rating:', 4.6)\n"
       ]
      }
     ],
     "prompt_number": 67
    },
    {
     "cell_type": "markdown",
     "metadata": {},
     "source": [
      "With this information, we can now calculate the predicted rating using the formula"
     ]
    },
    {
     "cell_type": "code",
     "collapsed": false,
     "input": [
      "Math(r'R(u,i) = z \\sum_{u` \\in N(u)} sim(u,u`) \\cdot R(u` ,i)')"
     ],
     "language": "python",
     "metadata": {},
     "outputs": [
      {
       "latex": [
        "$$R(u,i) = z \\sum_{u` \\in N(u)} sim(u,u`) \\cdot R(u` ,i)$$"
       ],
       "metadata": {},
       "output_type": "pyout",
       "prompt_number": 68,
       "text": [
        "<IPython.core.display.Math at 0x106e1c210>"
       ]
      }
     ],
     "prompt_number": 68
    },
    {
     "cell_type": "code",
     "collapsed": false,
     "input": [
      "Math(r'z = \\frac{1}{\\sum_{u` \\in N(u)} sim(u,u`)}')"
     ],
     "language": "python",
     "metadata": {},
     "outputs": [
      {
       "latex": [
        "$$z = \\frac{1}{\\sum_{u` \\in N(u)} sim(u,u`)}$$"
       ],
       "metadata": {},
       "output_type": "pyout",
       "prompt_number": 69,
       "text": [
        "<IPython.core.display.Math at 0x109324090>"
       ]
      }
     ],
     "prompt_number": 69
    },
    {
     "cell_type": "markdown",
     "metadata": {},
     "source": [
      "So the predicted rating that MyUser would give to MyItem is:"
     ]
    },
    {
     "cell_type": "code",
     "collapsed": false,
     "input": [
      "my_review = test[2]\n",
      "user_id = my_review['user_id']\n",
      "item_id = my_review['offering_id']\n",
      "rating = my_review['overall_rating']\n",
      "\n",
      "# Weighted sum recommender\n",
      "denominator = 1.0 + 1.0 + 1.0 + 1.0 + 0.5\n",
      "ws_numerator = 1.0 * 4.0 + 1.0 * 3.0 + 1.0 * 2.0 + 1.0 * 4.0 + 0.5 * 5.0\n",
      "ws_predicted_rating = ws_numerator / denominator\n",
      "print('Manual weighted sum predicted Rating:', ws_predicted_rating)\n",
      "print('Weighted sum recommender system predicted rating:', ws_recommender.predict_rating(user_id, item_id))\n",
      "\n",
      "# Adjusted weighted sum recommender\n",
      "\n",
      "user_average_rating = recommender.user_dictionary[user_id].average_overall_rating\n",
      "aws_numerator = 1.0 * (4.0 - 4.0) + 1.0 * (3.0 - 3.875) + 1.0 * (2.0 - 3.333) + 1.0 * (4.0 - 4.333) + 0.5 * (5.0 - 3.66)\n",
      "aws_predicted_rating = user_average_rating + aws_numerator / denominator\n",
      "print('Manual adjusted weighted sum predicted Rating:', aws_predicted_rating)\n",
      "print('Adjusted weighted sum recommender system predicted rating:', aws_recommender.predict_rating(user_id, item_id))\n",
      "print('Average recommender rating:', avg_recommender.predict_rating(user_id, item_id))\n",
      "print('Dummy recommender rating:', dummy_recommender.predict_rating(user_id, item_id))\n",
      "\n",
      "actual_rating = my_review['overall_rating']\n",
      "print('Actual rating:', actual_rating)\n",
      "\n",
      "ws_error = abs(actual_rating -  ws_predicted_rating)\n",
      "aws_error = abs(actual_rating -  aws_predicted_rating)\n",
      "avg_error = abs(actual_rating -  avg_recommender.predict_rating(user_id, item_id))\n",
      "dummy_error = abs(actual_rating -  dummy_recommender.predict_rating(user_id, item_id))\n",
      "print('Errors:', 'WS:', ws_error, 'AWS:', aws_error, 'AVG:', avg_error, 'Dummy:', dummy_error)"
     ],
     "language": "python",
     "metadata": {},
     "outputs": [
      {
       "output_type": "stream",
       "stream": "stdout",
       "text": [
        "('Manual weighted sum predicted Rating:', 3.4444444444444446)\n",
        "('Weighted sum recommender system predicted rating:', 3.4444444444444446)\n",
        "('Manual adjusted weighted sum predicted Rating:', 3.9842222222222223)\n",
        "('Neighbourhood: ', 9, u'9FF630DF29C67791978600FC5B2DBFE8', 1218792)\n",
        "('Adjusted weighted sum recommender system predicted rating:', 3.9833333333333338)\n",
        "('Average recommender rating:', 3.913245873889124)\n",
        "('Dummy recommender rating:', 4.0)\n",
        "('Actual rating:', 4.0)\n",
        "('Errors:', 'WS:', 0.5555555555555554, 'AWS:', 0.01577777777777767, 'AVG:', 0.086754126110875962, 'Dummy:', 0.0)\n"
       ]
      }
     ],
     "prompt_number": 70
    },
    {
     "cell_type": "markdown",
     "metadata": {},
     "source": [
      "### Review 3\n",
      "\n",
      "For this review we have the following information"
     ]
    },
    {
     "cell_type": "code",
     "collapsed": false,
     "input": [
      "my_review = test[8]\n",
      "user_id = my_review['user_id']\n",
      "item_id = my_review['offering_id']\n",
      "rating = my_review['overall_rating']\n",
      "\n",
      "print('User ID:', user_id)\n",
      "print('Item ID:', item_id)\n",
      "print('Rating:', rating)"
     ],
     "language": "python",
     "metadata": {},
     "outputs": [
      {
       "output_type": "stream",
       "stream": "stdout",
       "text": [
        "('User ID:', u'02860EA0ED535DE587635F1F8FC7D0C0')\n",
        "('Item ID:', 84079)\n",
        "('Rating:', 5.0)\n"
       ]
      }
     ],
     "prompt_number": 71
    },
    {
     "cell_type": "markdown",
     "metadata": {},
     "source": [
      "### Find out which users have rated common items with MyUser\n",
      "\n",
      "\n"
     ]
    },
    {
     "cell_type": "code",
     "collapsed": false,
     "input": [
      "# If the user is not in the training set, then we can't predict the rating\n",
      "if user_id not in recommender.user_ids:\n",
      "    predicted_rating = None\n",
      "\n",
      "# We obtain the neighbours of the user\n",
      "# The neighbourhood is the set of users that have rated the same item as MyUser in the training set\n",
      "# and that also have rated MyItem\n",
      "neighbourhood = recommender.get_neighbourhood(user_id, item_id)"
     ],
     "language": "python",
     "metadata": {},
     "outputs": [],
     "prompt_number": 72
    },
    {
     "cell_type": "markdown",
     "metadata": {},
     "source": [
      "For this particular user, the neighbourhood size is:"
     ]
    },
    {
     "cell_type": "code",
     "collapsed": false,
     "input": [
      "print('Neighbourhood size:', len(neighbourhood))"
     ],
     "language": "python",
     "metadata": {},
     "outputs": [
      {
       "output_type": "stream",
       "stream": "stdout",
       "text": [
        "('Neighbourhood size:', 3)\n"
       ]
      }
     ],
     "prompt_number": 73
    },
    {
     "cell_type": "markdown",
     "metadata": {},
     "source": [
      "And the neighbours are:"
     ]
    },
    {
     "cell_type": "code",
     "collapsed": false,
     "input": [
      "for neighbour in neighbourhood:\n",
      "    print(neighbour)"
     ],
     "language": "python",
     "metadata": {},
     "outputs": [
      {
       "output_type": "stream",
       "stream": "stdout",
       "text": [
        "75D2B2509A733463F97A52877D078D86\n",
        "1BB22F3C5F3C52E120EAF07B4D924605\n",
        "48D750137FF4D27ADA7CFE294D2315FB\n"
       ]
      }
     ],
     "prompt_number": 74
    },
    {
     "cell_type": "markdown",
     "metadata": {},
     "source": [
      "### For each neighbour, find out the similarity value it shares with MyUser\n",
      "\n",
      "For each neighbour, we are going to print its user_id, the similarity it has with MyUser, and the rating it has given to item_id"
     ]
    },
    {
     "cell_type": "code",
     "collapsed": false,
     "input": [
      "for neighbour in neighbourhood:\n",
      "    print('User ID:', neighbour,\n",
      "          'Similarity', recommender.user_similarity_matrix[neighbour][user_id],\n",
      "          'Rating:', recommender.user_dictionary[neighbour].item_ratings[item_id])"
     ],
     "language": "python",
     "metadata": {},
     "outputs": [
      {
       "output_type": "stream",
       "stream": "stdout",
       "text": [
        "('User ID:', u'75D2B2509A733463F97A52877D078D86', 'Similarity', 0.5, 'Rating:', 4.0)\n",
        "('User ID:', u'1BB22F3C5F3C52E120EAF07B4D924605', 'Similarity', 0.33333333333333331, 'Rating:', 4.0)\n",
        "('User ID:', u'48D750137FF4D27ADA7CFE294D2315FB', 'Similarity', 0.3090169943749474, 'Rating:', 5.0)\n"
       ]
      }
     ],
     "prompt_number": 75
    },
    {
     "cell_type": "markdown",
     "metadata": {},
     "source": [
      "### Look for the items that the neigbour and MyUser have rated in common and assert that the similarity value is correct.\n",
      "\n",
      "Now we are going to verify that the similarity values are correct. To do so, we are going to see the items that the neighbours have in common with MyUser"
     ]
    },
    {
     "cell_type": "code",
     "collapsed": false,
     "input": [
      "from tripadvisor.fourcity import extractor\n",
      "\n",
      "for neighbour in neighbourhood:\n",
      "    print('User ID:', neighbour,\n",
      "          'Common items:', extractor.get_common_items(recommender.user_dictionary, user_id, neighbour))"
     ],
     "language": "python",
     "metadata": {},
     "outputs": [
      {
       "output_type": "stream",
       "stream": "stdout",
       "text": [
        "('User ID:', u'75D2B2509A733463F97A52877D078D86', 'Common items:', set([84093]))\n",
        "('User ID:', u'1BB22F3C5F3C52E120EAF07B4D924605', 'Common items:', set([84093]))\n",
        "('User ID:', u'48D750137FF4D27ADA7CFE294D2315FB', 'Common items:', set([84093, 84087]))\n"
       ]
      }
     ],
     "prompt_number": 76
    },
    {
     "cell_type": "markdown",
     "metadata": {},
     "source": [
      "For each neighbour we are going to calculate the similarity by comparing the rating they have given to the item, with MyUser's rating, and then manually calculate the euclidean similarity by using the formula similarity = 1 / (1 + euclidean_distance)"
     ]
    },
    {
     "cell_type": "code",
     "collapsed": false,
     "input": [
      "neighbour_id = '75D2B2509A733463F97A52877D078D86'\n",
      "neughbour_item = 84093\n",
      "my_user_rating = recommender.user_dictionary[user_id].item_ratings[neughbour_item]\n",
      "neighbour_rating = recommender.user_dictionary[neighbour_id].item_ratings[neughbour_item]\n",
      "print('Neighbour ID:', neighbour_id,\n",
      "      'MyUser rating:', my_user_rating,\n",
      "      'Neighbour rating:', neighbour_rating,\n",
      "      'Similarity:', (1/(1 + ((my_user_rating - neighbour_rating) ** 2)**0.5)))\n",
      "\n",
      "neighbour_id = '1BB22F3C5F3C52E120EAF07B4D924605'\n",
      "neughbour_item = 84093\n",
      "my_user_rating = recommender.user_dictionary[user_id].item_ratings[neughbour_item]\n",
      "neighbour_rating = recommender.user_dictionary[neighbour_id].item_ratings[neughbour_item]\n",
      "print('Neighbour ID:', neighbour_id,\n",
      "      'MyUser rating:', my_user_rating,\n",
      "      'Neighbour rating:', neighbour_rating,\n",
      "      'Similarity:', (1/(1 + ((my_user_rating - neighbour_rating) ** 2)**0.5)))\n",
      "\n",
      "neighbour_id = '48D750137FF4D27ADA7CFE294D2315FB'\n",
      "neighbour_item1 = 84093\n",
      "neighbour_item2 = 84087\n",
      "my_user_rating1 = recommender.user_dictionary[user_id].item_ratings[neighbour_item1]\n",
      "my_user_rating2 = recommender.user_dictionary[user_id].item_ratings[neighbour_item2]\n",
      "neighbour_rating1 = recommender.user_dictionary[neighbour_id].item_ratings[neighbour_item1]\n",
      "neighbour_rating2 = recommender.user_dictionary[neighbour_id].item_ratings[neighbour_item2]\n",
      "print('Neighbour ID:', neighbour_id,\n",
      "      'MyUser rating:', my_user_rating,\n",
      "      'Neighbour rating:', neighbour_rating,\n",
      "      'Similarity:', (1/(1 + ((my_user_rating1 - neighbour_rating1)**2 + (my_user_rating2 - neighbour_rating2)**2)**0.5)))"
     ],
     "language": "python",
     "metadata": {},
     "outputs": [
      {
       "output_type": "stream",
       "stream": "stdout",
       "text": [
        "('Neighbour ID:', '75D2B2509A733463F97A52877D078D86', 'MyUser rating:', 3.0, 'Neighbour rating:', 4.0, 'Similarity:', 0.5)\n",
        "('Neighbour ID:', '1BB22F3C5F3C52E120EAF07B4D924605', 'MyUser rating:', 3.0, 'Neighbour rating:', 5.0, 'Similarity:', 0.33333333333333331)\n",
        "('Neighbour ID:', '48D750137FF4D27ADA7CFE294D2315FB', 'MyUser rating:', 3.0, 'Neighbour rating:', 5.0, 'Similarity:', 0.3090169943749474)\n"
       ]
      }
     ],
     "prompt_number": 77
    },
    {
     "cell_type": "markdown",
     "metadata": {},
     "source": [
      "As we can see in the above steps, the similarity values are correct."
     ]
    },
    {
     "cell_type": "markdown",
     "metadata": {},
     "source": [
      "### Manually calculate the predicted rating with the obtained values of the similarity and the ratings that the neighbours have given to MyItem\n",
      "\n",
      "For this step we are going to use some information we have calculated above, in order to make it more clear, we are going to paste the same code again:"
     ]
    },
    {
     "cell_type": "code",
     "collapsed": false,
     "input": [
      "for neighbour in neighbourhood:\n",
      "    print('User ID:', neighbour,\n",
      "          'Similarity', recommender.user_similarity_matrix[neighbour][user_id],\n",
      "          'Item rating:', recommender.user_dictionary[neighbour].item_ratings[item_id],\n",
      "          'Average rating:', recommender.user_dictionary[neighbour].average_overall_rating)"
     ],
     "language": "python",
     "metadata": {},
     "outputs": [
      {
       "output_type": "stream",
       "stream": "stdout",
       "text": [
        "('User ID:', u'75D2B2509A733463F97A52877D078D86', 'Similarity', 0.5, 'Item rating:', 4.0, 'Average rating:', 4.0)\n",
        "('User ID:', u'1BB22F3C5F3C52E120EAF07B4D924605', 'Similarity', 0.33333333333333331, 'Item rating:', 4.0, 'Average rating:', 4.333333333333333)\n",
        "('User ID:', u'48D750137FF4D27ADA7CFE294D2315FB', 'Similarity', 0.3090169943749474, 'Item rating:', 5.0, 'Average rating:', 5.0)\n"
       ]
      }
     ],
     "prompt_number": 78
    },
    {
     "cell_type": "markdown",
     "metadata": {},
     "source": [
      "With this information, we can now calculate the predicted rating using the formula"
     ]
    },
    {
     "cell_type": "code",
     "collapsed": false,
     "input": [
      "Math(r'R(u,i) = z \\sum_{u` \\in N(u)} sim(u,u`) \\cdot R(u` ,i)')"
     ],
     "language": "python",
     "metadata": {},
     "outputs": [
      {
       "latex": [
        "$$R(u,i) = z \\sum_{u` \\in N(u)} sim(u,u`) \\cdot R(u` ,i)$$"
       ],
       "metadata": {},
       "output_type": "pyout",
       "prompt_number": 79,
       "text": [
        "<IPython.core.display.Math at 0x10932b250>"
       ]
      }
     ],
     "prompt_number": 79
    },
    {
     "cell_type": "code",
     "collapsed": false,
     "input": [
      "Math(r'z = \\frac{1}{\\sum_{u` \\in N(u)} sim(u,u`)}')"
     ],
     "language": "python",
     "metadata": {},
     "outputs": [
      {
       "latex": [
        "$$z = \\frac{1}{\\sum_{u` \\in N(u)} sim(u,u`)}$$"
       ],
       "metadata": {},
       "output_type": "pyout",
       "prompt_number": 80,
       "text": [
        "<IPython.core.display.Math at 0x109286f10>"
       ]
      }
     ],
     "prompt_number": 80
    },
    {
     "cell_type": "markdown",
     "metadata": {},
     "source": [
      "So the predicted rating that MyUser would give to MyItem is:"
     ]
    },
    {
     "cell_type": "code",
     "collapsed": false,
     "input": [
      "my_review = test[8]\n",
      "user_id = my_review['user_id']\n",
      "item_id = my_review['offering_id']\n",
      "rating = my_review['overall_rating']\n",
      "\n",
      "# Weighted sum recommender\n",
      "denominator = 0.5 + 0.333 + 0.309\n",
      "ws_numerator = 0.5 * 4.0 + 0.333 * 4.0 + 0.309 * 5.0\n",
      "ws_predicted_rating = ws_numerator / denominator\n",
      "print('Manual weighted sum predicted Rating:', ws_predicted_rating)\n",
      "print('Weighted sum recommender system predicted rating:', ws_recommender.predict_rating(user_id, item_id))\n",
      "\n",
      "# Adjusted weighted sum recommender\n",
      "\n",
      "user_average_rating = recommender.user_dictionary[user_id].average_overall_rating\n",
      "aws_numerator = 0.5 * (4.0 - 4.0) + 0.333 * (4.0 - 4.333) + 0.309 * (5.0 - 5.0)\n",
      "aws_predicted_rating = user_average_rating + aws_numerator / denominator\n",
      "print('Manual adjusted weighted sum predicted Rating:', aws_predicted_rating)\n",
      "print('Adjusted weighted sum recommender system predicted rating:', aws_recommender.predict_rating(user_id, item_id))\n",
      "print('Average recommender rating:', avg_recommender.predict_rating(user_id, item_id))\n",
      "print('Dummy recommender rating:', dummy_recommender.predict_rating(user_id, item_id))\n",
      "\n",
      "actual_rating = my_review['overall_rating']\n",
      "print('Actual rating:', actual_rating)\n",
      "\n",
      "ws_error = abs(actual_rating -  ws_predicted_rating)\n",
      "aws_error = abs(actual_rating -  aws_predicted_rating)\n",
      "avg_error = abs(actual_rating -  avg_recommender.predict_rating(user_id, item_id))\n",
      "dummy_error = abs(actual_rating -  dummy_recommender.predict_rating(user_id, item_id))\n",
      "print('Errors:', 'WS:', ws_error, 'AWS:', aws_error, 'AVG:', avg_error, 'Dummy:', dummy_error)"
     ],
     "language": "python",
     "metadata": {},
     "outputs": [
      {
       "output_type": "stream",
       "stream": "stdout",
       "text": [
        "('Manual weighted sum predicted Rating:', 4.270577933450087)\n",
        "('Weighted sum recommender system predicted rating:', 4.2705098312484226)\n",
        "('Manual adjusted weighted sum predicted Rating:', 3.4028992994746057)\n",
        "('Neighbourhood: ', 3, u'02860EA0ED535DE587635F1F8FC7D0C0', 84079)\n",
        "('Adjusted weighted sum recommender system predicted rating:', 3.4027346441664563)\n",
        "('Average recommender rating:', 3.913245873889124)\n",
        "('Dummy recommender rating:', 4.0)\n",
        "('Actual rating:', 5.0)\n",
        "('Errors:', 'WS:', 0.7294220665499127, 'AWS:', 1.5971007005253943, 'AVG:', 1.086754126110876, 'Dummy:', 1.0)\n"
       ]
      }
     ],
     "prompt_number": 81
    },
    {
     "cell_type": "markdown",
     "metadata": {},
     "source": [
      "### Review 4\n",
      "\n",
      "For this review we have the following information"
     ]
    },
    {
     "cell_type": "code",
     "collapsed": false,
     "input": [
      "my_review = test[67]\n",
      "user_id = my_review['user_id']\n",
      "item_id = my_review['offering_id']\n",
      "rating = my_review['overall_rating']\n",
      "\n",
      "print('User ID:', user_id)\n",
      "print('Item ID:', item_id)\n",
      "print('Rating:', rating)"
     ],
     "language": "python",
     "metadata": {},
     "outputs": [
      {
       "output_type": "stream",
       "stream": "stdout",
       "text": [
        "('User ID:', u'970BF90FE4738BB9A7BD78B01E20810C')\n",
        "('Item ID:', 93450)\n",
        "('Rating:', 2.0)\n"
       ]
      }
     ],
     "prompt_number": 84
    },
    {
     "cell_type": "markdown",
     "metadata": {},
     "source": [
      "### Find out which users have rated common items with MyUser\n",
      "\n",
      "\n"
     ]
    },
    {
     "cell_type": "code",
     "collapsed": false,
     "input": [
      "# If the user is not in the training set, then we can't predict the rating\n",
      "if user_id not in recommender.user_ids:\n",
      "    predicted_rating = None\n",
      "\n",
      "# We obtain the neighbours of the user\n",
      "# The neighbourhood is the set of users that have rated the same item as MyUser in the training set\n",
      "# and that also have rated MyItem\n",
      "neighbourhood = recommender.get_neighbourhood(user_id, item_id)"
     ],
     "language": "python",
     "metadata": {},
     "outputs": [],
     "prompt_number": 85
    },
    {
     "cell_type": "markdown",
     "metadata": {},
     "source": [
      "For this particular user, the neighbourhood size is:"
     ]
    },
    {
     "cell_type": "code",
     "collapsed": false,
     "input": [
      "print('Neighbourhood size:', len(neighbourhood))"
     ],
     "language": "python",
     "metadata": {},
     "outputs": [
      {
       "output_type": "stream",
       "stream": "stdout",
       "text": [
        "('Neighbourhood size:', 7)\n"
       ]
      }
     ],
     "prompt_number": 86
    },
    {
     "cell_type": "markdown",
     "metadata": {},
     "source": [
      "And the neighbours are:"
     ]
    },
    {
     "cell_type": "code",
     "collapsed": false,
     "input": [
      "for neighbour in neighbourhood:\n",
      "    print(neighbour)"
     ],
     "language": "python",
     "metadata": {},
     "outputs": [
      {
       "output_type": "stream",
       "stream": "stdout",
       "text": [
        "8AE0A5F56DE525C2BCDF87D7E54E9DF0\n",
        "6C64DCB228E0255547A69C46B138B280\n",
        "8DCF9BE7F5EAB3DE26B896DB3702D796\n",
        "C5907018EBC2EC24FA4C8B9CCD2C8CBD\n",
        "A9DBCFE3E77DB2DC0F989BE387A5B87A\n",
        "15260F7D29FDCE47CBFA7BACD55C5326\n",
        "F6CF03D6B759EA5C2394037470DFBDDB\n"
       ]
      }
     ],
     "prompt_number": 87
    },
    {
     "cell_type": "markdown",
     "metadata": {},
     "source": [
      "### For each neighbour, find out the similarity value it shares with MyUser\n",
      "\n",
      "For each neighbour, we are going to print its user_id, the similarity it has with MyUser, and the rating it has given to item_id"
     ]
    },
    {
     "cell_type": "code",
     "collapsed": false,
     "input": [
      "for neighbour in neighbourhood:\n",
      "    print('User ID:', neighbour,\n",
      "          'Similarity', recommender.user_similarity_matrix[neighbour][user_id],\n",
      "          'Rating:', recommender.user_dictionary[neighbour].item_ratings[item_id])"
     ],
     "language": "python",
     "metadata": {},
     "outputs": [
      {
       "output_type": "stream",
       "stream": "stdout",
       "text": [
        "('User ID:', u'8AE0A5F56DE525C2BCDF87D7E54E9DF0', 'Similarity', 1.0, 'Rating:', 5.0)\n",
        "('User ID:', u'6C64DCB228E0255547A69C46B138B280', 'Similarity', 0.66666666666666663, 'Rating:', 4.0)\n",
        "('User ID:', u'8DCF9BE7F5EAB3DE26B896DB3702D796', 'Similarity', 0.66666666666666663, 'Rating:', 4.0)\n",
        "('User ID:', u'C5907018EBC2EC24FA4C8B9CCD2C8CBD', 'Similarity', 0.66666666666666663, 'Rating:', 3.0)\n",
        "('User ID:', u'A9DBCFE3E77DB2DC0F989BE387A5B87A', 'Similarity', 0.5, 'Rating:', 2.0)\n",
        "('User ID:', u'15260F7D29FDCE47CBFA7BACD55C5326', 'Similarity', 0.40000000000000002, 'Rating:', 4.0)\n",
        "('User ID:', u'F6CF03D6B759EA5C2394037470DFBDDB', 'Similarity', 0.33333333333333331, 'Rating:', 3.0)\n"
       ]
      }
     ],
     "prompt_number": 90
    },
    {
     "cell_type": "markdown",
     "metadata": {},
     "source": [
      "### Look for the items that the neigbour and MyUser have rated in common and assert that the similarity value is correct.\n",
      "\n",
      "Now we are going to verify that the similarity values are correct. To do so, we are going to see the items that the neighbours have in common with MyUser"
     ]
    },
    {
     "cell_type": "code",
     "collapsed": false,
     "input": [
      "from tripadvisor.fourcity import extractor\n",
      "\n",
      "for neighbour in neighbourhood:\n",
      "    print('User ID:', neighbour,\n",
      "          'Common items:', extractor.get_common_items(recommender.user_dictionary, user_id, neighbour))"
     ],
     "language": "python",
     "metadata": {},
     "outputs": [
      {
       "output_type": "stream",
       "stream": "stdout",
       "text": [
        "('User ID:', u'8AE0A5F56DE525C2BCDF87D7E54E9DF0', 'Common items:', set([84093]))\n",
        "('User ID:', u'6C64DCB228E0255547A69C46B138B280', 'Common items:', set([223023]))\n",
        "('User ID:', u'8DCF9BE7F5EAB3DE26B896DB3702D796', 'Common items:', set([223023]))\n",
        "('User ID:', u'C5907018EBC2EC24FA4C8B9CCD2C8CBD', 'Common items:', set([223023]))\n",
        "('User ID:', u'A9DBCFE3E77DB2DC0F989BE387A5B87A', 'Common items:', set([84093]))\n",
        "('User ID:', u'15260F7D29FDCE47CBFA7BACD55C5326', 'Common items:', set([223023]))\n",
        "('User ID:', u'F6CF03D6B759EA5C2394037470DFBDDB', 'Common items:', set([84093]))\n"
       ]
      }
     ],
     "prompt_number": 89
    },
    {
     "cell_type": "markdown",
     "metadata": {},
     "source": [
      "For each neighbour we are going to calculate the similarity by comparing the rating they have given to the item, with MyUser's rating, and then manually calculate the euclidean similarity by using the formula similarity = 1 / (1 + euclidean_distance)"
     ]
    },
    {
     "cell_type": "code",
     "collapsed": false,
     "input": [
      "neighbour_id = '8AE0A5F56DE525C2BCDF87D7E54E9DF0'\n",
      "neughbour_item = 84093\n",
      "my_user_rating = recommender.user_dictionary[user_id].item_ratings[neughbour_item]\n",
      "neighbour_rating = recommender.user_dictionary[neighbour_id].item_ratings[neughbour_item]\n",
      "print('Neighbour ID:', neighbour_id,\n",
      "      'MyUser rating:', my_user_rating,\n",
      "      'Neighbour rating:', neighbour_rating,\n",
      "      'Similarity:', (1/(1 + ((my_user_rating - neighbour_rating) ** 2)**0.5)))\n",
      "\n",
      "neighbour_id = '6C64DCB228E0255547A69C46B138B280'\n",
      "neughbour_item = 223023\n",
      "my_user_rating = recommender.user_dictionary[user_id].item_ratings[neughbour_item]\n",
      "neighbour_rating = recommender.user_dictionary[neighbour_id].item_ratings[neughbour_item]\n",
      "print('Neighbour ID:', neighbour_id,\n",
      "      'MyUser rating:', my_user_rating,\n",
      "      'Neighbour rating:', neighbour_rating,\n",
      "      'Similarity:', (1/(1 + ((my_user_rating - neighbour_rating) ** 2)**0.5)))\n",
      "\n",
      "neighbour_id = '8DCF9BE7F5EAB3DE26B896DB3702D796'\n",
      "neughbour_item = 223023\n",
      "my_user_rating = recommender.user_dictionary[user_id].item_ratings[neughbour_item]\n",
      "neighbour_rating = recommender.user_dictionary[neighbour_id].item_ratings[neughbour_item]\n",
      "print('Neighbour ID:', neighbour_id,\n",
      "      'MyUser rating:', my_user_rating,\n",
      "      'Neighbour rating:', neighbour_rating,\n",
      "      'Similarity:', (1/(1 + ((my_user_rating - neighbour_rating) ** 2)**0.5)))\n",
      "\n",
      "neighbour_id = 'C5907018EBC2EC24FA4C8B9CCD2C8CBD'\n",
      "neughbour_item = 223023\n",
      "my_user_rating = recommender.user_dictionary[user_id].item_ratings[neughbour_item]\n",
      "neighbour_rating = recommender.user_dictionary[neighbour_id].item_ratings[neughbour_item]\n",
      "print('Neighbour ID:', neighbour_id,\n",
      "      'MyUser rating:', my_user_rating,\n",
      "      'Neighbour rating:', neighbour_rating,\n",
      "      'Similarity:', (1/(1 + ((my_user_rating - neighbour_rating) ** 2)**0.5)))\n",
      "\n",
      "neighbour_id = 'A9DBCFE3E77DB2DC0F989BE387A5B87A'\n",
      "neughbour_item = 84093\n",
      "my_user_rating = recommender.user_dictionary[user_id].item_ratings[neughbour_item]\n",
      "neighbour_rating = recommender.user_dictionary[neighbour_id].item_ratings[neughbour_item]\n",
      "print('Neighbour ID:', neighbour_id,\n",
      "      'MyUser rating:', my_user_rating,\n",
      "      'Neighbour rating:', neighbour_rating,\n",
      "      'Similarity:', (1/(1 + ((my_user_rating - neighbour_rating) ** 2)**0.5)))\n",
      "\n",
      "neighbour_id = '15260F7D29FDCE47CBFA7BACD55C5326'\n",
      "neughbour_item = 223023\n",
      "my_user_rating = recommender.user_dictionary[user_id].item_ratings[neughbour_item]\n",
      "neighbour_rating = recommender.user_dictionary[neighbour_id].item_ratings[neughbour_item]\n",
      "print('Neighbour ID:', neighbour_id,\n",
      "      'MyUser rating:', my_user_rating,\n",
      "      'Neighbour rating:', neighbour_rating,\n",
      "      'Similarity:', (1/(1 + ((my_user_rating - neighbour_rating) ** 2)**0.5)))\n",
      "\n",
      "neighbour_id = 'F6CF03D6B759EA5C2394037470DFBDDB'\n",
      "neughbour_item = 84093\n",
      "my_user_rating = recommender.user_dictionary[user_id].item_ratings[neughbour_item]\n",
      "neighbour_rating = recommender.user_dictionary[neighbour_id].item_ratings[neughbour_item]\n",
      "print('Neighbour ID:', neighbour_id,\n",
      "      'MyUser rating:', my_user_rating,\n",
      "      'Neighbour rating:', neighbour_rating,\n",
      "      'Similarity:', (1/(1 + ((my_user_rating - neighbour_rating) ** 2)**0.5)))\n"
     ],
     "language": "python",
     "metadata": {},
     "outputs": [
      {
       "output_type": "stream",
       "stream": "stdout",
       "text": [
        "('Neighbour ID:', '8AE0A5F56DE525C2BCDF87D7E54E9DF0', 'MyUser rating:', 5.0, 'Neighbour rating:', 5.0, 'Similarity:', 1.0)\n",
        "('Neighbour ID:', '6C64DCB228E0255547A69C46B138B280', 'MyUser rating:', 2.5, 'Neighbour rating:', 3.0, 'Similarity:', 0.66666666666666663)\n",
        "('Neighbour ID:', '8DCF9BE7F5EAB3DE26B896DB3702D796', 'MyUser rating:', 2.5, 'Neighbour rating:', 3.0, 'Similarity:', 0.66666666666666663)\n",
        "('Neighbour ID:', 'C5907018EBC2EC24FA4C8B9CCD2C8CBD', 'MyUser rating:', 2.5, 'Neighbour rating:', 2.0, 'Similarity:', 0.66666666666666663)\n",
        "('Neighbour ID:', 'A9DBCFE3E77DB2DC0F989BE387A5B87A', 'MyUser rating:', 5.0, 'Neighbour rating:', 4.0, 'Similarity:', 0.5)\n",
        "('Neighbour ID:', '15260F7D29FDCE47CBFA7BACD55C5326', 'MyUser rating:', 2.5, 'Neighbour rating:', 4.0, 'Similarity:', 0.40000000000000002)\n",
        "('Neighbour ID:', 'F6CF03D6B759EA5C2394037470DFBDDB', 'MyUser rating:', 5.0, 'Neighbour rating:', 3.0, 'Similarity:', 0.33333333333333331)\n"
       ]
      }
     ],
     "prompt_number": 91
    },
    {
     "cell_type": "markdown",
     "metadata": {},
     "source": [
      "As we can see in the above steps, the similarity values are correct."
     ]
    },
    {
     "cell_type": "markdown",
     "metadata": {},
     "source": [
      "### Manually calculate the predicted rating with the obtained values of the similarity and the ratings that the neighbours have given to MyItem\n",
      "\n",
      "For this step we are going to use some information we have calculated above, in order to make it more clear, we are going to paste the same code again:"
     ]
    },
    {
     "cell_type": "code",
     "collapsed": false,
     "input": [
      "for neighbour in neighbourhood:\n",
      "    print('User ID:', neighbour,\n",
      "          'Similarity', recommender.user_similarity_matrix[neighbour][user_id],\n",
      "          'Item rating:', recommender.user_dictionary[neighbour].item_ratings[item_id],\n",
      "          'Average rating:', recommender.user_dictionary[neighbour].average_overall_rating)"
     ],
     "language": "python",
     "metadata": {},
     "outputs": [
      {
       "output_type": "stream",
       "stream": "stdout",
       "text": [
        "('User ID:', u'8AE0A5F56DE525C2BCDF87D7E54E9DF0', 'Similarity', 1.0, 'Item rating:', 5.0, 'Average rating:', 5.0)\n",
        "('User ID:', u'6C64DCB228E0255547A69C46B138B280', 'Similarity', 0.66666666666666663, 'Item rating:', 4.0, 'Average rating:', 4.222222222222222)\n",
        "('User ID:', u'8DCF9BE7F5EAB3DE26B896DB3702D796', 'Similarity', 0.66666666666666663, 'Item rating:', 4.0, 'Average rating:', 4.0)\n",
        "('User ID:', u'C5907018EBC2EC24FA4C8B9CCD2C8CBD', 'Similarity', 0.66666666666666663, 'Item rating:', 3.0, 'Average rating:', 3.0)\n",
        "('User ID:', u'A9DBCFE3E77DB2DC0F989BE387A5B87A', 'Similarity', 0.5, 'Item rating:', 2.0, 'Average rating:', 3.8333333333333335)\n",
        "('User ID:', u'15260F7D29FDCE47CBFA7BACD55C5326', 'Similarity', 0.40000000000000002, 'Item rating:', 4.0, 'Average rating:', 4.5)\n",
        "('User ID:', u'F6CF03D6B759EA5C2394037470DFBDDB', 'Similarity', 0.33333333333333331, 'Item rating:', 3.0, 'Average rating:', 2.8333333333333335)\n"
       ]
      }
     ],
     "prompt_number": 92
    },
    {
     "cell_type": "markdown",
     "metadata": {},
     "source": [
      "With this information, we can now calculate the predicted rating using the formula"
     ]
    },
    {
     "cell_type": "code",
     "collapsed": false,
     "input": [
      "Math(r'R(u,i) = z \\sum_{u` \\in N(u)} sim(u,u`) \\cdot R(u` ,i)')"
     ],
     "language": "python",
     "metadata": {},
     "outputs": [
      {
       "latex": [
        "$$R(u,i) = z \\sum_{u` \\in N(u)} sim(u,u`) \\cdot R(u` ,i)$$"
       ],
       "metadata": {},
       "output_type": "pyout",
       "prompt_number": 79,
       "text": [
        "<IPython.core.display.Math at 0x10932b250>"
       ]
      }
     ],
     "prompt_number": 79
    },
    {
     "cell_type": "code",
     "collapsed": false,
     "input": [
      "Math(r'z = \\frac{1}{\\sum_{u` \\in N(u)} sim(u,u`)}')"
     ],
     "language": "python",
     "metadata": {},
     "outputs": [
      {
       "latex": [
        "$$z = \\frac{1}{\\sum_{u` \\in N(u)} sim(u,u`)}$$"
       ],
       "metadata": {},
       "output_type": "pyout",
       "prompt_number": 80,
       "text": [
        "<IPython.core.display.Math at 0x109286f10>"
       ]
      }
     ],
     "prompt_number": 80
    },
    {
     "cell_type": "markdown",
     "metadata": {},
     "source": [
      "So the predicted rating that MyUser would give to MyItem is:"
     ]
    },
    {
     "cell_type": "code",
     "collapsed": false,
     "input": [
      "my_review = test[67]\n",
      "user_id = my_review['user_id']\n",
      "item_id = my_review['offering_id']\n",
      "rating = my_review['overall_rating']\n",
      "\n",
      "# Weighted sum recommender\n",
      "denominator = 1.0 + 0.666 + 0.666 + 0.666 + 0.5 + 0.4 + 0.333\n",
      "ws_numerator = 1.0 * 5.0 + 0.666 * 4.0 + 0.666 * 4.0 + 0.666 * 3.0 + 0.5 * 2.0 + 0.4 * 4.0 + 0.333 * 3.0\n",
      "ws_predicted_rating = ws_numerator / denominator\n",
      "print('Manual weighted sum predicted Rating:', ws_predicted_rating)\n",
      "print('Weighted sum recommender system predicted rating:', ws_recommender.predict_rating(user_id, item_id))\n",
      "\n",
      "# Adjusted weighted sum recommender\n",
      "\n",
      "user_average_rating = recommender.user_dictionary[user_id].average_overall_rating\n",
      "aws_numerator = 1.0 * (5.0 - 5.0) + 0.666 * (4.0 - 4.222) + 0.666 * (4.0 - 4.0) +\\\n",
      "                0.666 * (3.0 - 4.0) + 0.5 * (2.0 - 3.0) + 0.4 * (4.0 - 3.833) + 0.333 * (3.0 - 2.833)\n",
      "aws_predicted_rating = user_average_rating + aws_numerator / denominator\n",
      "print('Manual adjusted weighted sum predicted Rating:', aws_predicted_rating)\n",
      "print('Adjusted weighted sum recommender system predicted rating:', aws_recommender.predict_rating(user_id, item_id))\n",
      "print('Average recommender rating:', avg_recommender.predict_rating(user_id, item_id))\n",
      "print('Dummy recommender rating:', dummy_recommender.predict_rating(user_id, item_id))\n",
      "\n",
      "actual_rating = my_review['overall_rating']\n",
      "print('Actual rating:', actual_rating)\n",
      "\n",
      "ws_error = abs(actual_rating -  ws_predicted_rating)\n",
      "aws_error = abs(actual_rating -  aws_predicted_rating)\n",
      "avg_error = abs(actual_rating -  avg_recommender.predict_rating(user_id, item_id))\n",
      "dummy_error = abs(actual_rating -  dummy_recommender.predict_rating(user_id, item_id))\n",
      "print('Errors:', 'WS:', ws_error, 'AWS:', aws_error, 'AVG:', avg_error, 'Dummy:', dummy_error)"
     ],
     "language": "python",
     "metadata": {},
     "outputs": [
      {
       "output_type": "stream",
       "stream": "stdout",
       "text": [
        "('Manual weighted sum predicted Rating:', 3.76388560623966)\n",
        "('Weighted sum recommender system predicted rating:', 3.8095238095238098)\n",
        "('Manual adjusted weighted sum predicted Rating:', 3.051735365949736)\n",
        "('Neighbourhood: ', 7, u'970BF90FE4738BB9A7BD78B01E20810C', 93450)\n",
        "('Adjusted weighted sum recommender system predicted rating:', 3.0291005291005293)\n",
        "('Average recommender rating:', 3.913245873889124)\n",
        "('Dummy recommender rating:', 4.0)\n",
        "('Actual rating:', 2.0)\n",
        "('Errors:', 'WS:', 1.76388560623966, 'AWS:', 1.0517353659497362, 'AVG:', 1.913245873889124, 'Dummy:', 2.0)\n"
       ]
      }
     ],
     "prompt_number": 94
    },
    {
     "cell_type": "markdown",
     "metadata": {},
     "source": [
      "## Review 4\n",
      "For this review we have the following information\n",
      "\n",
      "('Neighbourhood: ', 6, u'665F054DF2C3802CCF4DBC5194E8F73A', 93352)"
     ]
    },
    {
     "cell_type": "code",
     "collapsed": false,
     "input": [
      "print(test[67])\n",
      "\n",
      "print(test[75])"
     ],
     "language": "python",
     "metadata": {},
     "outputs": [
      {
       "output_type": "stream",
       "stream": "stdout",
       "text": [
        "{u'multi_ratings': [2.0, 2.0, 3.0, 2.0, 2.0], u'user_id': u'970BF90FE4738BB9A7BD78B01E20810C', u'offering_id': 93450, u'overall_rating': 2.0}\n",
        "{u'multi_ratings': [5.0, 5.0, 5.0, 5.0, 5.0], u'user_id': u'5DFE96EC85C67F248DEFFA8B84891A6A', u'offering_id': 236299, u'overall_rating': 5.0}\n"
       ]
      }
     ],
     "prompt_number": 83
    }
   ],
   "metadata": {}
  }
 ]
}