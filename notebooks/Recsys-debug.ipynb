{
 "metadata": {
  "name": "",
  "signature": "sha256:9333a67bc90751ee5f0ad14e151e6121550aed3779a4d1cf30ca676d66dacf4b"
 },
 "nbformat": 3,
 "nbformat_minor": 0,
 "worksheets": [
  {
   "cells": [
    {
     "cell_type": "markdown",
     "metadata": {},
     "source": [
      "# Debugging the recommender systems one by one\n",
      "\n",
      "In this notebook we are going to debug two recommender systems in order to find out how they are behaving. To achieve this, we do a step by step execution of the algorithms printing the values each variable has at each step. These are the steps we are going to follow:\n",
      "\n",
      "1. Load and shuffle the reviews\n",
      "2. Split the reviews into training and test set\n",
      "3. Select a review from the test set (a user, item, rating triplet). We will call the user MyUser, and the item MyItem.\n",
      "4. Predict the rating the user would give to the item\n",
      "    1. Find out which users have rated common items with MyUser. These will be the neighbours of MyUser.\n",
      "    2. For each neighbour, find out the similarity value it shares with MyUser.\n",
      "    3. Look for the items that the neigbour and MyUser have rated in common and assert that the similarity value is correct.\n",
      "    4. Manually calculate the predicted rating with the obtained values of the similarity and the ratings that the neighbours have given to MyItem\n",
      "    \n",
      "## Load and shuffle the reviews\n",
      "To accomplish this, we load and shuffle the reviews just once and then store the data in a file. Then we just load the file that contains the reviews already shuffled."
     ]
    },
    {
     "cell_type": "code",
     "collapsed": false,
     "input": [
      "import sys\n",
      "sys.path.append('/Users/fpena/UCC/Thesis/projects/yelp/source/python')\n",
      "from IPython.display import Math\n",
      "from etl import ETLUtils\n",
      "\n",
      "file_path = '/Users/fpena/tmp/filtered_reviews_multi_non_sparse_shuffled.json'\n",
      "reviews = ETLUtils.load_json_file(file_path)\n",
      "\n",
      "print(reviews[0])\n",
      "print(reviews[1])\n",
      "print(reviews[2])"
     ],
     "language": "python",
     "metadata": {},
     "outputs": [
      {
       "output_type": "stream",
       "stream": "stdout",
       "text": [
        "{u'multi_ratings': [4.0, 5.0, 4.0, 4.0, 4.0], u'user_id': u'CATID_', u'offering_id': 93618, u'overall_rating': 5.0}\n",
        "{u'multi_ratings': [4.0, 4.0, 4.0, 4.0, 4.0], u'user_id': u'CC813BCDB9DA614B728B36E92E27BF9B', u'offering_id': 78046, u'overall_rating': 4.0}\n",
        "{u'multi_ratings': [5.0, 5.0, 4.0, 5.0, 4.0], u'user_id': u'9FF630DF29C67791978600FC5B2DBFE8', u'offering_id': 1218792, u'overall_rating': 4.0}\n"
       ]
      }
     ],
     "prompt_number": 1
    },
    {
     "cell_type": "markdown",
     "metadata": {},
     "source": [
      "From the above code, we can see that the reviews are loaded as expected. Now we proceed to split the dataset into the training set and the test set.\n",
      "\n",
      "## Split the reviews into training and test set\n",
      "\n",
      "This is pretty straightforward, we just use one of the methods contained in the ETLUtils class."
     ]
    },
    {
     "cell_type": "code",
     "collapsed": false,
     "input": [
      "train, test = ETLUtils.split_train_test(reviews, split=0.8, start=0.2, shuffle_data=False)\n",
      "\n",
      "print('Training')\n",
      "print(train[0])\n",
      "print(train[1])\n",
      "print(train[2])\n",
      "\n",
      "print('\\nTest')\n",
      "print(test[0])\n",
      "print(test[1])\n",
      "print(test[2])"
     ],
     "language": "python",
     "metadata": {},
     "outputs": [
      {
       "output_type": "stream",
       "stream": "stdout",
       "text": [
        "Training\n",
        "{u'multi_ratings': [4.0, 5.0, 2.0, 4.0, 3.0], u'user_id': u'44F4B94E47AE70D65C2A98F6EBFAAFF4', u'offering_id': 98452, u'overall_rating': 3.0}\n",
        "{u'multi_ratings': [2.0, 4.0, 3.0, 2.0, 5.0], u'user_id': u'CATID_', u'offering_id': 78046, u'overall_rating': 3.0}\n",
        "{u'multi_ratings': [5.0, 5.0, 3.0, 3.0, 4.0], u'user_id': u'3BFADBAEA5E11139E082E02E6388BBAE', u'offering_id': 81461, u'overall_rating': 4.0}\n",
        "\n",
        "Test\n",
        "{u'multi_ratings': [4.0, 5.0, 4.0, 4.0, 4.0], u'user_id': u'CATID_', u'offering_id': 93618, u'overall_rating': 5.0}\n",
        "{u'multi_ratings': [4.0, 4.0, 4.0, 4.0, 4.0], u'user_id': u'CC813BCDB9DA614B728B36E92E27BF9B', u'offering_id': 78046, u'overall_rating': 4.0}\n",
        "{u'multi_ratings': [5.0, 5.0, 4.0, 5.0, 4.0], u'user_id': u'9FF630DF29C67791978600FC5B2DBFE8', u'offering_id': 1218792, u'overall_rating': 4.0}\n"
       ]
      }
     ],
     "prompt_number": 2
    },
    {
     "cell_type": "markdown",
     "metadata": {},
     "source": [
      "In the above code, we are telling the split_train_test method that we want to split the data into a 80-20 way, the parameter split=0.8 indicates that the size of the training data should be of 80%. We are also telling the method that we want the training data to start after the 20% of the list. This means that the training data will go from 20% of the list to 100%, and the test data is the remaining, i.e. from 0% to 20%. A graphical way to express this is [OXXXX], where O is the test data and X is the training data.\n",
      "\n",
      "In the output we can see that the first three records of the test set are the same as the first three records of the whole reviews set, which is something we expected.\n",
      "\n",
      "## Select a review from the test set\n",
      "\n",
      "After playing around with different sets, we have manually chose three reviews that can illustrate very well how is the recommender system working. We have chose these reviews because the users in them have more than one neighbour, and in some cases the neighbours share more than one item in common.\n",
      "\n",
      "The three selected reviews are in the positions 1, 2 and 8 of the test data set."
     ]
    },
    {
     "cell_type": "code",
     "collapsed": false,
     "input": [
      "print(test[1])\n",
      "print(test[2])\n",
      "print(test[8])"
     ],
     "language": "python",
     "metadata": {},
     "outputs": [
      {
       "output_type": "stream",
       "stream": "stdout",
       "text": [
        "{u'multi_ratings': [4.0, 4.0, 4.0, 4.0, 4.0], u'user_id': u'CC813BCDB9DA614B728B36E92E27BF9B', u'offering_id': 78046, u'overall_rating': 4.0}\n",
        "{u'multi_ratings': [5.0, 5.0, 4.0, 5.0, 4.0], u'user_id': u'9FF630DF29C67791978600FC5B2DBFE8', u'offering_id': 1218792, u'overall_rating': 4.0}\n",
        "{u'multi_ratings': [4.0, 5.0, 4.0, 5.0, 5.0], u'user_id': u'02860EA0ED535DE587635F1F8FC7D0C0', u'offering_id': 84079, u'overall_rating': 5.0}\n"
       ]
      }
     ],
     "prompt_number": 3
    },
    {
     "cell_type": "markdown",
     "metadata": {},
     "source": [
      "## Predict the rating MyUser would give to the MyItem\n",
      "\n",
      "In order to predict the rating, the first thing we are going to do is create an instance of the recommender system and then load the training data into the recommender. We will also set the maximum number of nighbours as 5. We can achive that with the following code:"
     ]
    },
    {
     "cell_type": "code",
     "collapsed": false,
     "input": [
      "from recommenders.weighted_sum_recommender import WeightedSumRecommender\n",
      "from recommenders.similarity.single_similarity_matrix_builder import SingleSimilarityMatrixBuilder\n",
      "\n",
      "recommender = WeightedSumRecommender(SingleSimilarityMatrixBuilder('euclidean'))\n",
      "recommender._num_neighbors = 5\n",
      "recommender.load(train)"
     ],
     "language": "python",
     "metadata": {},
     "outputs": [],
     "prompt_number": 4
    },
    {
     "cell_type": "markdown",
     "metadata": {},
     "source": [
      "### Review 1\n",
      "\n",
      "For this review we have the following information"
     ]
    },
    {
     "cell_type": "code",
     "collapsed": false,
     "input": [
      "my_review = test[1]\n",
      "user_id = my_review['user_id']\n",
      "item_id = my_review['offering_id']\n",
      "rating = my_review['overall_rating']\n",
      "\n",
      "print('User ID:', user_id)\n",
      "print('Item ID:', item_id)\n",
      "print('Rating:', rating)"
     ],
     "language": "python",
     "metadata": {},
     "outputs": [
      {
       "output_type": "stream",
       "stream": "stdout",
       "text": [
        "('User ID:', u'CC813BCDB9DA614B728B36E92E27BF9B')\n",
        "('Item ID:', 78046)\n",
        "('Rating:', 4.0)\n"
       ]
      }
     ],
     "prompt_number": 5
    },
    {
     "cell_type": "markdown",
     "metadata": {},
     "source": [
      "### Find out which users have rated common items with MyUser\n",
      "\n",
      "\n"
     ]
    },
    {
     "cell_type": "code",
     "collapsed": false,
     "input": [
      "# If the user is not in the training set, then we can't predict the rating\n",
      "if user_id not in recommender.user_ids:\n",
      "    predicted_rating = None\n",
      "\n",
      "# We obtain the neighbours of the user\n",
      "# The neighbourhood is the set of users that have rated the same item as MyUser in the training set\n",
      "neighbourhood = recommender.get_neighbourhood(user_id, item_id)"
     ],
     "language": "python",
     "metadata": {},
     "outputs": [],
     "prompt_number": 6
    },
    {
     "cell_type": "markdown",
     "metadata": {},
     "source": [
      "For this particular user, the neighbourhood size is:"
     ]
    },
    {
     "cell_type": "code",
     "collapsed": false,
     "input": [
      "print('Neighbourhood size:', len(neighbourhood))"
     ],
     "language": "python",
     "metadata": {},
     "outputs": [
      {
       "output_type": "stream",
       "stream": "stdout",
       "text": [
        "('Neighbourhood size:', 3)\n"
       ]
      }
     ],
     "prompt_number": 7
    },
    {
     "cell_type": "markdown",
     "metadata": {},
     "source": [
      "And the neighbours are:"
     ]
    },
    {
     "cell_type": "code",
     "collapsed": false,
     "input": [
      "for neighbour in neighbourhood:\n",
      "    print(neighbour)"
     ],
     "language": "python",
     "metadata": {},
     "outputs": [
      {
       "output_type": "stream",
       "stream": "stdout",
       "text": [
        "113CB53AD6CF0EEC7427F804A7D0607E\n",
        "DCCD38C886A7C72C215AFCCB625AC03C\n",
        "6562BBD4EA770FE84E579622F68FA181\n"
       ]
      }
     ],
     "prompt_number": 8
    },
    {
     "cell_type": "markdown",
     "metadata": {},
     "source": [
      "### For each neighbour, find out the similarity value it shares with MyUser\n",
      "\n",
      "For each neighbour, we are going to print its user_id, the similarity it has with MyUser, and the rating it has given to item_id"
     ]
    },
    {
     "cell_type": "code",
     "collapsed": false,
     "input": [
      "for neighbour in neighbourhood:\n",
      "    print('User ID:', neighbour,\n",
      "          'Similarity', recommender.user_similarity_matrix[neighbour][user_id],\n",
      "          'Rating:', recommender.user_dictionary[neighbour].item_ratings[item_id])"
     ],
     "language": "python",
     "metadata": {},
     "outputs": [
      {
       "output_type": "stream",
       "stream": "stdout",
       "text": [
        "('User ID:', u'113CB53AD6CF0EEC7427F804A7D0607E', 'Similarity', 0.5, 'Rating:', 3.0)\n",
        "('User ID:', u'DCCD38C886A7C72C215AFCCB625AC03C', 'Similarity', 0.33333333333333331, 'Rating:', 4.0)\n",
        "('User ID:', u'6562BBD4EA770FE84E579622F68FA181', 'Similarity', 0.33333333333333331, 'Rating:', 3.0)\n"
       ]
      }
     ],
     "prompt_number": 9
    },
    {
     "cell_type": "markdown",
     "metadata": {},
     "source": [
      "### Look for the items that the neigbour and MyUser have rated in common and assert that the similarity value is correct.\n",
      "\n",
      "Now we are going to verify that the similarity values are correct. To do so, we are going to see the items that the neighbours have in common with MyUser"
     ]
    },
    {
     "cell_type": "code",
     "collapsed": false,
     "input": [
      "from tripadvisor.fourcity import extractor\n",
      "\n",
      "for neighbour in neighbourhood:\n",
      "    print('User ID:', neighbour, extractor.get_common_items(recommender.user_dictionary, user_id, neighbour))"
     ],
     "language": "python",
     "metadata": {},
     "outputs": [
      {
       "output_type": "stream",
       "stream": "stdout",
       "text": [
        "('User ID:', u'113CB53AD6CF0EEC7427F804A7D0607E', set([611947]))\n",
        "('User ID:', u'DCCD38C886A7C72C215AFCCB625AC03C', set([93352]))\n",
        "('User ID:', u'6562BBD4EA770FE84E579622F68FA181', set([611947]))\n"
       ]
      }
     ],
     "prompt_number": 10
    },
    {
     "cell_type": "markdown",
     "metadata": {},
     "source": [
      "For each neighbour we are going to calculate the similarity by comparing the rating they have given to the item, with MyUser's rating, and then manually calculate the euclidean similarity by using the formula similarity = 1 / (1 + euclidean_distance)"
     ]
    },
    {
     "cell_type": "code",
     "collapsed": false,
     "input": [
      "neighbour_id = '113CB53AD6CF0EEC7427F804A7D0607E'\n",
      "neughbour_item = 611947\n",
      "my_user_rating = recommender.user_dictionary[user_id].item_ratings[neughbour_item]\n",
      "neighbour_rating = recommender.user_dictionary[neighbour_id].item_ratings[neughbour_item]\n",
      "print('Neighbour ID:', neighbour_id,\n",
      "      'MyUser rating:', my_user_rating,\n",
      "      'Neighbour rating:', neighbour_rating,\n",
      "      'Similarity:', (1/(1 + ((my_user_rating - neighbour_rating) ** 2)**0.5)))\n",
      "\n",
      "neighbour_id = 'DCCD38C886A7C72C215AFCCB625AC03C'\n",
      "neughbour_item = 93352\n",
      "my_user_rating = recommender.user_dictionary[user_id].item_ratings[neughbour_item]\n",
      "neighbour_rating = recommender.user_dictionary[neighbour_id].item_ratings[neughbour_item]\n",
      "print('Neighbour ID:', neighbour_id,\n",
      "      'MyUser rating:', my_user_rating,\n",
      "      'Neighbour rating:', neighbour_rating,\n",
      "      'Similarity:', (1/(1 + ((my_user_rating - neighbour_rating) ** 2)**0.5)))\n",
      "\n",
      "neighbour_id = '6562BBD4EA770FE84E579622F68FA181'\n",
      "neughbour_item = 611947\n",
      "my_user_rating = recommender.user_dictionary[user_id].item_ratings[neughbour_item]\n",
      "neighbour_rating = recommender.user_dictionary[neighbour_id].item_ratings[neughbour_item]\n",
      "print('Neighbour ID:', neighbour_id,\n",
      "      'MyUser rating:', my_user_rating,\n",
      "      'Neighbour rating:', neighbour_rating,\n",
      "      'Similarity:', (1/(1 + ((my_user_rating - neighbour_rating) ** 2)**0.5)))"
     ],
     "language": "python",
     "metadata": {},
     "outputs": [
      {
       "output_type": "stream",
       "stream": "stdout",
       "text": [
        "('Neighbour ID:', '113CB53AD6CF0EEC7427F804A7D0607E', 'MyUser rating:', 4.0, 'Neighbour rating:', 5.0, 'Similarity:', 0.5)\n",
        "('Neighbour ID:', 'DCCD38C886A7C72C215AFCCB625AC03C', 'MyUser rating:', 5.0, 'Neighbour rating:', 3.0, 'Similarity:', 0.33333333333333331)\n",
        "('Neighbour ID:', '6562BBD4EA770FE84E579622F68FA181', 'MyUser rating:', 4.0, 'Neighbour rating:', 2.0, 'Similarity:', 0.33333333333333331)\n"
       ]
      }
     ],
     "prompt_number": 11
    },
    {
     "cell_type": "markdown",
     "metadata": {},
     "source": [
      "As we can see in the above steps, the similarity values are correct."
     ]
    },
    {
     "cell_type": "markdown",
     "metadata": {},
     "source": [
      "### Manually calculate the predicted rating with the obtained values of the similarity and the ratings that the neighbours have given to MyItem\n",
      "\n",
      "For this step we are going to use some information we have calculated above, in order to make it more clear, we are going to paste the same code again:"
     ]
    },
    {
     "cell_type": "code",
     "collapsed": false,
     "input": [
      "for neighbour in neighbourhood:\n",
      "    print('User ID:', neighbour,\n",
      "          'Similarity', recommender.user_similarity_matrix[neighbour][user_id],\n",
      "          'Rating:', recommender.user_dictionary[neighbour].item_ratings[item_id])"
     ],
     "language": "python",
     "metadata": {},
     "outputs": [
      {
       "output_type": "stream",
       "stream": "stdout",
       "text": [
        "('User ID:', u'113CB53AD6CF0EEC7427F804A7D0607E', 'Similarity', 0.5, 'Rating:', 3.0)\n",
        "('User ID:', u'DCCD38C886A7C72C215AFCCB625AC03C', 'Similarity', 0.33333333333333331, 'Rating:', 4.0)\n",
        "('User ID:', u'6562BBD4EA770FE84E579622F68FA181', 'Similarity', 0.33333333333333331, 'Rating:', 3.0)\n"
       ]
      }
     ],
     "prompt_number": 12
    },
    {
     "cell_type": "markdown",
     "metadata": {},
     "source": [
      "With this information, we can now calculate the predicted rating using the formula"
     ]
    },
    {
     "cell_type": "code",
     "collapsed": false,
     "input": [
      "Math(r'R(u,i) = z \\sum_{u` \\in N(u)} sim(u,u`) \\cdot R(u` ,i)')"
     ],
     "language": "python",
     "metadata": {},
     "outputs": [
      {
       "latex": [
        "$$R(u,i) = z \\sum_{u` \\in N(u)} sim(u,u`) \\cdot R(u` ,i)$$"
       ],
       "metadata": {},
       "output_type": "pyout",
       "prompt_number": 13,
       "text": [
        "<IPython.core.display.Math at 0x105493a50>"
       ]
      }
     ],
     "prompt_number": 13
    },
    {
     "cell_type": "code",
     "collapsed": false,
     "input": [
      "Math(r'z = \\frac{1}{\\sum_{u` \\in N(u)} sim(u,u`)}')"
     ],
     "language": "python",
     "metadata": {},
     "outputs": [
      {
       "latex": [
        "$$z = \\frac{1}{\\sum_{u` \\in N(u)} sim(u,u`)}$$"
       ],
       "metadata": {},
       "output_type": "pyout",
       "prompt_number": 14,
       "text": [
        "<IPython.core.display.Math at 0x10a6cffd0>"
       ]
      }
     ],
     "prompt_number": 14
    },
    {
     "cell_type": "markdown",
     "metadata": {},
     "source": [
      "So the predicted rating that MyUser would give to MyItem is:"
     ]
    },
    {
     "cell_type": "code",
     "collapsed": false,
     "input": [
      "numerator = 0.5 * 3.0 + 0.333 * 4.0 + 0.333 * 3.0\n",
      "denominator = 0.5 + 0.333 + 0.333\n",
      "predicted_rating = numerator / denominator\n",
      "print('Manual predicted Rating:', predicted_rating)\n",
      "print('Recommender system predicted rating:', recommender.predict_rating(user_id, item_id))"
     ],
     "language": "python",
     "metadata": {},
     "outputs": [
      {
       "output_type": "stream",
       "stream": "stdout",
       "text": [
        "('Manual predicted Rating:', 3.2855917667238423)\n",
        "('Recommender system predicted rating:', 3.285714285714286)\n"
       ]
      }
     ],
     "prompt_number": 15
    }
   ],
   "metadata": {}
  }
 ]
}