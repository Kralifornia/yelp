{
 "metadata": {
  "name": "",
  "signature": "sha256:7565a02db700bac7ea3d09297ff40fd9f660264ab6e877dfbb9cc71f9019c157"
 },
 "nbformat": 3,
 "nbformat_minor": 0,
 "worksheets": [
  {
   "cells": [
    {
     "cell_type": "markdown",
     "metadata": {},
     "source": [
      "# Debugging the recommender systems part 2\n",
      "\n",
      "In this notebook we are going to test different variations of the recommeder system in order to see which parameters or modifications to the algortihm help to improve its accuracy. The test are performed over the Fourcity TripAdvisor Dataset.\n",
      "\n",
      "We are going to analyze the results of different test cases:"
     ]
    },
    {
     "cell_type": "code",
     "collapsed": false,
     "input": [
      "import sys\n",
      "sys.path.append('/Users/fpena/UCC/Thesis/projects/yelp/source/python')\n",
      "import time\n",
      "from etl import ETLUtils\n",
      "from evaluation.mean_absolute_error import MeanAbsoluteError\n",
      "from evaluation.root_mean_square_error import RootMeanSquareError\n",
      "from recommenders.adjusted_weighted_sum_recommender import AdjustedWeightedSumRecommender\n",
      "from recommenders.similarity.single_similarity_matrix_builder import SingleSimilarityMatrixBuilder\n",
      "\n",
      "def perform_cross_validation(reviews, recommender, num_folds):\n",
      "\n",
      "    start_time = time.time()\n",
      "    split = 1 - (1/float(num_folds))\n",
      "    total_mean_absolute_error = 0.\n",
      "    total_mean_square_error = 0.\n",
      "    total_coverage = 0.\n",
      "    num_cycles = 0\n",
      "\n",
      "    for i in xrange(0, num_folds):\n",
      "        # print('Num cycles:', i)\n",
      "        start = float(i) / num_folds\n",
      "        train, test = ETLUtils.split_train_test(reviews, split=split, shuffle_data=False, start=start)\n",
      "        recommender.load(train)\n",
      "        _, errors, num_unknown_ratings = predict_rating_list(recommender, test)\n",
      "        mean_absolute_error = MeanAbsoluteError.compute_list(errors)\n",
      "        root_mean_square_error = RootMeanSquareError.compute_list(errors)\n",
      "        num_samples = len(test)\n",
      "        coverage = float((num_samples - num_unknown_ratings) / num_samples)\n",
      "\n",
      "        if mean_absolute_error is not None:\n",
      "            total_mean_absolute_error += mean_absolute_error\n",
      "            total_mean_square_error += root_mean_square_error\n",
      "            total_coverage += coverage\n",
      "            num_cycles += 1\n",
      "        else:\n",
      "            print('Mean absolute error is None!!!')\n",
      "\n",
      "\n",
      "    final_mean_absolute_error = total_mean_absolute_error / num_cycles\n",
      "    final_root_squared_error = total_mean_square_error / num_cycles\n",
      "    final_coverage = total_coverage / num_cycles\n",
      "    execution_time = time.time() - start_time\n",
      "\n",
      "    # print('Final mean absolute error: %f' % final_mean_absolute_error)\n",
      "    # print('Final root mean square error: %f' % final_root_squared_error)\n",
      "    # print('Final coverage: %f' % final_coverage)\n",
      "    # print(\"--- %s seconds ---\" % execution_time)\n",
      "\n",
      "    result = {\n",
      "        'MAE': final_mean_absolute_error,\n",
      "        'RMSE': final_root_squared_error,\n",
      "        'Coverage': final_coverage,\n",
      "        'Execution time': execution_time\n",
      "    }\n",
      "\n",
      "    return result\n",
      "\n",
      "def predict_rating_list(predictor, reviews):\n",
      "    \"\"\"\n",
      "    For each one of the reviews this method predicts the rating for the\n",
      "    user and item contained in the review and also returns the error\n",
      "    between the predicted rating and the actual rating the user gave to the\n",
      "    item\n",
      "\n",
      "    :param predictor: the object used to predict the rating that will be given\n",
      "     by a the user to the item contained in each review\n",
      "    :param reviews: a list of reviews (the test data)\n",
      "    :return: a tuple with a list of the predicted ratings and the list of\n",
      "    errors for those predictions\n",
      "    \"\"\"\n",
      "    predicted_ratings = []\n",
      "    errors = []\n",
      "    num_unknown_ratings = 0.\n",
      "\n",
      "    for review in reviews:\n",
      "\n",
      "        user_id = review['user_id']\n",
      "        item_id = review['offering_id']\n",
      "        predicted_rating = predictor.predict_rating(user_id, item_id)\n",
      "        actual_rating = review['overall_rating']\n",
      "\n",
      "        # print(user_id, item_id, predicted_rating)\n",
      "\n",
      "        error = None\n",
      "\n",
      "        # print('Predicted rating', predicted_rating)\n",
      "\n",
      "        if predicted_rating is not None:\n",
      "            error = abs(predicted_rating - actual_rating)\n",
      "        else:\n",
      "            num_unknown_ratings += 1\n",
      "\n",
      "        predicted_ratings.append(predicted_rating)\n",
      "        errors.append(error)\n",
      "\n",
      "    return predicted_ratings, errors, num_unknown_ratings"
     ],
     "language": "python",
     "metadata": {},
     "outputs": [],
     "prompt_number": 1
    },
    {
     "cell_type": "code",
     "collapsed": false,
     "input": [
      "# We load the dataset\n",
      "file_path = '/Users/fpena/tmp/filtered_reviews_multi_non_sparse_shuffled.json'\n",
      "reviews = ETLUtils.load_json_file(file_path)\n",
      "\n",
      "# We set the number of folds to perform cross-validation\n",
      "num_folds = 5"
     ],
     "language": "python",
     "metadata": {},
     "outputs": [],
     "prompt_number": 2
    },
    {
     "cell_type": "code",
     "collapsed": false,
     "input": [
      "sim_matrix_builder = SingleSimilarityMatrixBuilder('euclidean')\n",
      "awsr = AdjustedWeightedSumRecommender(sim_matrix_builder)\n",
      "awsr._num_neighbors = None\n",
      "result = perform_cross_validation(reviews, awsr, num_folds)\n",
      "print(result)"
     ],
     "language": "python",
     "metadata": {},
     "outputs": [
      {
       "output_type": "stream",
       "stream": "stdout",
       "text": [
        "{'Execution time': 31.982892990112305, 'MAE': 0.8317007573477152, 'Coverage': 0.795192291146864, 'RMSE': 1.0799606235587949}\n"
       ]
      }
     ],
     "prompt_number": 3
    },
    {
     "cell_type": "code",
     "collapsed": false,
     "input": [
      "awsr = AdjustedWeightedSumRecommender(sim_matrix_builder)\n",
      "awsr._num_neighbors = 5\n",
      "result = perform_cross_validation(reviews, awsr, num_folds)\n",
      "print(result)"
     ],
     "language": "python",
     "metadata": {},
     "outputs": [
      {
       "output_type": "stream",
       "stream": "stdout",
       "text": [
        "{'Execution time': 29.14725089073181, 'MAE': 0.8425623710213761, 'Coverage': 0.795192291146864, 'RMSE': 1.0905084316087541}\n"
       ]
      }
     ],
     "prompt_number": 4
    },
    {
     "cell_type": "code",
     "collapsed": false,
     "input": [
      "sim_matrix_builder._similarity_metric = 'pearson'\n",
      "awsr = AdjustedWeightedSumRecommender(sim_matrix_builder)\n",
      "awsr._num_neighbors = None\n",
      "result = perform_cross_validation(reviews, awsr, num_folds)\n",
      "print(result)"
     ],
     "language": "python",
     "metadata": {},
     "outputs": [
      {
       "output_type": "stream",
       "stream": "stdout",
       "text": [
        "{'Execution time': 36.9143340587616, 'MAE': 1.0055819107710042, 'Coverage': 0.11069431300008606, 'RMSE': 1.2985063560574599}\n"
       ]
      }
     ],
     "prompt_number": 5
    },
    {
     "cell_type": "code",
     "collapsed": false,
     "input": [
      "sim_matrix_builder._similarity_metric = 'pearson'\n",
      "awsr = AdjustedWeightedSumRecommender(sim_matrix_builder)\n",
      "awsr._num_neighbors = 5\n",
      "result = perform_cross_validation(reviews, awsr, num_folds)\n",
      "print(result)"
     ],
     "language": "python",
     "metadata": {},
     "outputs": [
      {
       "output_type": "stream",
       "stream": "stdout",
       "text": [
        "{'Execution time': 39.12229084968567, 'MAE': 1.0064615011122213, 'Coverage': 0.11069431300008606, 'RMSE': 1.2990208838735255}\n"
       ]
      }
     ],
     "prompt_number": 6
    },
    {
     "cell_type": "markdown",
     "metadata": {},
     "source": [
      "## Consider only similarities based on two or more common items"
     ]
    },
    {
     "cell_type": "code",
     "collapsed": false,
     "input": [
      "sim_matrix_builder._min_common_items = 2"
     ],
     "language": "python",
     "metadata": {},
     "outputs": [],
     "prompt_number": 7
    },
    {
     "cell_type": "code",
     "collapsed": false,
     "input": [
      "sim_matrix_builder._similarity_metric = 'euclidean'\n",
      "awsr = AdjustedWeightedSumRecommender(sim_matrix_builder)\n",
      "awsr._num_neighbors = None\n",
      "result = perform_cross_validation(reviews, awsr, num_folds)\n",
      "print(result)"
     ],
     "language": "python",
     "metadata": {},
     "outputs": [
      {
       "output_type": "stream",
       "stream": "stdout",
       "text": [
        "{'Execution time': 20.482923984527588, 'MAE': 0.92726772331640761, 'Coverage': 0.26506925922739394, 'RMSE': 1.1833355369778542}\n"
       ]
      }
     ],
     "prompt_number": 8
    },
    {
     "cell_type": "code",
     "collapsed": false,
     "input": [
      "sim_matrix_builder._similarity_metric = 'euclidean'\n",
      "awsr = AdjustedWeightedSumRecommender(sim_matrix_builder)\n",
      "awsr._num_neighbors = 5\n",
      "result = perform_cross_validation(reviews, awsr, num_folds)\n",
      "print(result)"
     ],
     "language": "python",
     "metadata": {},
     "outputs": [
      {
       "output_type": "stream",
       "stream": "stdout",
       "text": [
        "{'Execution time': 22.972856998443604, 'MAE': 0.93037424513630496, 'Coverage': 0.26506925922739394, 'RMSE': 1.1858269139961131}\n"
       ]
      }
     ],
     "prompt_number": 9
    },
    {
     "cell_type": "code",
     "collapsed": false,
     "input": [
      "sim_matrix_builder._similarity_metric = 'pearson'\n",
      "awsr = AdjustedWeightedSumRecommender(sim_matrix_builder)\n",
      "awsr._num_neighbors = None\n",
      "result = perform_cross_validation(reviews, awsr, num_folds)\n",
      "print(result)"
     ],
     "language": "python",
     "metadata": {},
     "outputs": [
      {
       "output_type": "stream",
       "stream": "stdout",
       "text": [
        "{'Execution time': 17.226240873336792, 'MAE': 1.0055819107710042, 'Coverage': 0.11069431300008606, 'RMSE': 1.2985063560574599}\n"
       ]
      }
     ],
     "prompt_number": 10
    },
    {
     "cell_type": "code",
     "collapsed": false,
     "input": [
      "sim_matrix_builder._similarity_metric = 'pearson'\n",
      "awsr = AdjustedWeightedSumRecommender(sim_matrix_builder)\n",
      "awsr._num_neighbors = 5\n",
      "result = perform_cross_validation(reviews, awsr, num_folds)\n",
      "print(result)"
     ],
     "language": "python",
     "metadata": {},
     "outputs": [
      {
       "output_type": "stream",
       "stream": "stdout",
       "text": [
        "{'Execution time': 16.79896903038025, 'MAE': 1.0064615011122213, 'Coverage': 0.11069431300008606, 'RMSE': 1.2990208838735255}\n"
       ]
      }
     ],
     "prompt_number": 11
    },
    {
     "cell_type": "markdown",
     "metadata": {},
     "source": [
      "## Consider only similarities based on three or more common items"
     ]
    },
    {
     "cell_type": "code",
     "collapsed": false,
     "input": [
      "sim_matrix_builder._min_common_items = 3"
     ],
     "language": "python",
     "metadata": {},
     "outputs": [],
     "prompt_number": 12
    },
    {
     "cell_type": "code",
     "collapsed": false,
     "input": [
      "sim_matrix_builder._similarity_metric = 'euclidean'\n",
      "awsr = AdjustedWeightedSumRecommender(sim_matrix_builder)\n",
      "awsr._num_neighbors = None\n",
      "result = perform_cross_validation(reviews, awsr, num_folds)\n",
      "print(result)"
     ],
     "language": "python",
     "metadata": {},
     "outputs": [
      {
       "output_type": "stream",
       "stream": "stdout",
       "text": [
        "{'Execution time': 15.401348114013672, 'MAE': 0.94803251038255743, 'Coverage': 0.06500215090768305, 'RMSE': 1.1789930775780015}\n"
       ]
      }
     ],
     "prompt_number": 13
    },
    {
     "cell_type": "code",
     "collapsed": false,
     "input": [
      "sim_matrix_builder._similarity_metric = 'euclidean'\n",
      "awsr = AdjustedWeightedSumRecommender(sim_matrix_builder)\n",
      "awsr._num_neighbors = 5\n",
      "result = perform_cross_validation(reviews, awsr, num_folds)\n",
      "print(result)"
     ],
     "language": "python",
     "metadata": {},
     "outputs": [
      {
       "output_type": "stream",
       "stream": "stdout",
       "text": [
        "{'Execution time': 15.888621091842651, 'MAE': 0.94825341677990094, 'Coverage': 0.06500215090768305, 'RMSE': 1.1792000620569696}\n"
       ]
      }
     ],
     "prompt_number": 14
    },
    {
     "cell_type": "code",
     "collapsed": false,
     "input": [
      "sim_matrix_builder._similarity_metric = 'pearson'\n",
      "awsr = AdjustedWeightedSumRecommender(sim_matrix_builder)\n",
      "awsr._num_neighbors = None\n",
      "result = perform_cross_validation(reviews, awsr, num_folds)\n",
      "print(result)"
     ],
     "language": "python",
     "metadata": {},
     "outputs": [
      {
       "output_type": "stream",
       "stream": "stdout",
       "text": [
        "{'Execution time': 16.67840600013733, 'MAE': 1.0583364721367245, 'Coverage': 0.0358857437838768, 'RMSE': 1.3042785211062962}\n"
       ]
      }
     ],
     "prompt_number": 15
    },
    {
     "cell_type": "code",
     "collapsed": false,
     "input": [
      "sim_matrix_builder._similarity_metric = 'pearson'\n",
      "awsr = AdjustedWeightedSumRecommender(sim_matrix_builder)\n",
      "awsr._num_neighbors = 5\n",
      "result = perform_cross_validation(reviews, awsr, num_folds)\n",
      "print(result)"
     ],
     "language": "python",
     "metadata": {},
     "outputs": [
      {
       "output_type": "stream",
       "stream": "stdout",
       "text": [
        "{'Execution time': 15.447357892990112, 'MAE': 1.0583364721367245, 'Coverage': 0.0358857437838768, 'RMSE': 1.3042785211062962}\n"
       ]
      }
     ],
     "prompt_number": 16
    },
    {
     "cell_type": "markdown",
     "metadata": {},
     "source": [
      "As we can see, the best results are obtained when using euclidean distance. Better results are obtained when using all the neighbours and not just the neighbours that have rated more than two (or three) items in common. Better results are also obtained when using all the neighbours and not just the Top-5 more similar users."
     ]
    }
   ],
   "metadata": {}
  }
 ]
}