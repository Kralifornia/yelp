{
 "cells": [
  {
   "cell_type": "markdown",
   "metadata": {},
   "source": [
    "# Text Ablation\n",
    "\n",
    "The following is the code used to sample parts of the reviews."
   ]
  },
  {
   "cell_type": "code",
   "execution_count": 1,
   "metadata": {
    "collapsed": true
   },
   "outputs": [],
   "source": [
    "import numpy\n",
    "\n",
    "def sample_bag_of_words(review_bow, sampling_method, max_words=None):\n",
    "    \"\"\"\n",
    "    Samples a list of strings containing a bag of words using the given\n",
    "    sampling method. The sampling is always done without replacement.\n",
    "\n",
    "    :type review_bow: list[str]\n",
    "    :param review_bow: the bag of words to sample\n",
    "    :param sampling_method: a float in the range [0,1] that\n",
    "    indicates the proportion of text that should be sampled from the review.\n",
    "    It can also take the string value of 'max', indicating that only the\n",
    "    word with the highest probability from the topic will be sampled\n",
    "     text. If None then the origianl review_bow list is returned\n",
    "    :param max_words: is the set of words with maximum probability for each\n",
    "    contextual topic\n",
    "    \"\"\"\n",
    "\n",
    "    if sampling_method is None or len(review_bow) == 0:\n",
    "        return review_bow\n",
    "\n",
    "    if sampling_method == 'max':\n",
    "        bow_set = set(review_bow)\n",
    "        words_set = set(max_words)\n",
    "        review_bow = list(bow_set.intersection(words_set))\n",
    "        return review_bow\n",
    "    elif 0.0 <= sampling_method <= 1.0:\n",
    "        num_words = int(sampling_method * len(review_bow))\n",
    "        review_bow = numpy.random.choice(review_bow, num_words, replace=False)\n",
    "\n",
    "        return review_bow"
   ]
  },
  {
   "cell_type": "markdown",
   "metadata": {},
   "source": [
    "## Example\n",
    "\n",
    "Below we present a few examples on how to use the function"
   ]
  },
  {
   "cell_type": "code",
   "execution_count": 2,
   "metadata": {
    "collapsed": false
   },
   "outputs": [
    {
     "name": "stdout",
     "output_type": "stream",
     "text": [
      "original number of words: 9\n",
      "['The', 'quick', 'brown', 'fox', 'jumps', 'over', 'the', 'lazy', 'dog']\n",
      "\n",
      "number of words when sample=1.0: 9\n",
      "['jumps' 'brown' 'lazy' 'dog' 'The' 'fox' 'quick' 'over' 'the']\n",
      "\n",
      "number of words when sample=0.5: 4\n",
      "['brown' 'The' 'jumps' 'fox']\n",
      "\n",
      "number of words when sample='max_words': 2\n",
      "['quick', 'lazy']\n"
     ]
    }
   ],
   "source": [
    "review = 'The quick brown fox jumps over the lazy dog'\n",
    "review_bow = review.split(' ')\n",
    "print('original number of words: %d' % len(review_bow))\n",
    "print(review_bow)\n",
    "\n",
    "sampled_bows = sample_bag_of_words(review_bow, 1.0)\n",
    "print('\\nnumber of words when sample=1.0: %d' % len(sampled_bows))\n",
    "print(sampled_bows)\n",
    "\n",
    "sampled_bows = sample_bag_of_words(review_bow, 0.5)\n",
    "print('\\nnumber of words when sample=0.5: %d' % len(sampled_bows))\n",
    "print(sampled_bows)\n",
    "\n",
    "max_words = ['quick', 'lazy']\n",
    "sampled_bows = sample_bag_of_words(review_bow, 'max', max_words)\n",
    "print('\\nnumber of words when sample=\\'max_words\\': %d' % len(sampled_bows))\n",
    "print(sampled_bows)"
   ]
  }
 ],
 "metadata": {
  "kernelspec": {
   "display_name": "Python 2",
   "language": "python",
   "name": "python2"
  },
  "language_info": {
   "codemirror_mode": {
    "name": "ipython",
    "version": 2
   },
   "file_extension": ".py",
   "mimetype": "text/x-python",
   "name": "python",
   "nbconvert_exporter": "python",
   "pygments_lexer": "ipython2",
   "version": "2.7.11"
  }
 },
 "nbformat": 4,
 "nbformat_minor": 0
}
