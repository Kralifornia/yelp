{
 "metadata": {
  "name": "",
  "signature": "sha256:ac0aa09e9317ecf7a4a4ffed22ce7ad72995512d6bb5fe7710bdcf517bf172c3"
 },
 "nbformat": 3,
 "nbformat_minor": 0,
 "worksheets": [
  {
   "cells": [
    {
     "cell_type": "code",
     "collapsed": false,
     "input": [
      "from IPython.display import Math"
     ],
     "language": "python",
     "metadata": {},
     "outputs": [],
     "prompt_number": 10
    },
    {
     "cell_type": "markdown",
     "metadata": {},
     "source": [
      "# Testing the Recommender Systems on the MovieLens 100k Dataset\n",
      "\n",
      "Due to the unsucesful results when testing the recommender systems on the FourCity TripAdvisor dataset, it was decided to test the recommender systems on a single-criterion dataset which was known in the literature so we could compare the results of our recommender against other proposals that use the same data.\n",
      "\n",
      "## Comparison with FourCity dataset\n",
      "Before showing the results of the executions of the recommender systems, we are going a quick comparison of the two datasets\n",
      "\n",
      "### FourCity (TripAdvisor)\n",
      "* Number of reviews: 11327\n",
      "* Number of users: 888\n",
      "* Number of items: 1482\n",
      "* Sparsity: 0.9917166660587713 --> Take a look why this number is slightly different from 1 - (11327 / (888 * 1482))\n",
      "\n",
      "### MovieLens\n",
      "* Number of reviews: 100000\n",
      "* Number of users: 943\n",
      "* Number of items: 1682\n",
      "* Sparsity: 0.9369533063577546\n",
      "\n",
      "## Types of recommenders\n",
      "\n",
      "### DummyRecommender\n",
      "This recommender just predicts the closest integer to the average of the ratings of all samples (that is, the union of the train and test data).\n",
      "\n",
      "The performance of this recommender is\n",
      "* Mean absolute error: 0.89416\n",
      "* Root mean square error: 1.219839\n",
      "* Time: 0.14665103 seconds\n",
      "\n",
      "### AverageRecommender\n",
      "This recommeder predicts the average of the ratings of the training data.\n",
      "\n",
      "The average performance of this recommender is\n",
      "* Mean absolute error: 0.944726\n",
      "* Root mean square error: 1.125578\n",
      "* Time: 18 seconds\n",
      "\n",
      "### WeigthedSumRecommender\n",
      "This recommender uses the following formula to calculate the ratings:"
     ]
    },
    {
     "cell_type": "code",
     "collapsed": false,
     "input": [
      "Math(r'R(u,i) = z \\sum_{u` \\in N(u)} sim(u,u`) \\cdot R(u` ,i)')"
     ],
     "language": "python",
     "metadata": {},
     "outputs": [
      {
       "latex": [
        "$$R(u,i) = z \\sum_{u` \\in N(u)} sim(u,u`) \\cdot R(u` ,i)$$"
       ],
       "metadata": {},
       "output_type": "pyout",
       "prompt_number": 11,
       "text": [
        "<IPython.core.display.Math at 0x103bd5150>"
       ]
      }
     ],
     "prompt_number": 11
    },
    {
     "cell_type": "code",
     "collapsed": false,
     "input": [
      "Math(r'z = \\frac{1}{\\sum_{u` \\in N(u)} sim(u,u`)}')"
     ],
     "language": "python",
     "metadata": {},
     "outputs": [
      {
       "latex": [
        "$$z = \\frac{1}{\\sum_{u` \\in N(u)} sim(u,u`)}$$"
       ],
       "metadata": {},
       "output_type": "pyout",
       "prompt_number": 12,
       "text": [
        "<IPython.core.display.Math at 0x103bd5090>"
       ]
      }
     ],
     "prompt_number": 12
    },
    {
     "cell_type": "markdown",
     "metadata": {},
     "source": [
      "The average performance of this recommender is\n",
      "* Mean absolute error: 0.854038778\n",
      "* Root mean square error: 1.088897314\n",
      "* Top N: 0.694614548\n",
      "* Best MAE value: 0.797591782 (SingleSimilarity, chebyshev, 40 neighbours)\n",
      "* Best RMSE value: 1.003798434 (SingleSimilarity, chebyshev, 40 neighbours)\n",
      "* Best Top N value: 0.728656574 (SingleSimilariy, pearson, all neighbours)\n",
      "\n",
      "### AdjustedWeigthedSumRecommender\n",
      "This recommender uses the following formula to calculate the ratings:"
     ]
    },
    {
     "cell_type": "code",
     "collapsed": false,
     "input": [
      "Math(r'R(u,i) = \\overline{R(u)} +  z \\sum_{u` \\in N(u)} sim(u,u`) \\cdot (R(u` ,i) - \\overline{R(u`))}')"
     ],
     "language": "python",
     "metadata": {},
     "outputs": [
      {
       "latex": [
        "$$R(u,i) = \\overline{R(u)} +  z \\sum_{u` \\in N(u)} sim(u,u`) \\cdot (R(u` ,i) - \\overline{R(u`))}$$"
       ],
       "metadata": {},
       "output_type": "pyout",
       "prompt_number": 13,
       "text": [
        "<IPython.core.display.Math at 0x103bd5190>"
       ]
      }
     ],
     "prompt_number": 13
    },
    {
     "cell_type": "markdown",
     "metadata": {},
     "source": [
      "The average performance of this recommender is\n",
      "* Mean absolute error: 0.823195759\n",
      "* Root mean square error: 1.041963991\n",
      "* Top N: 0.686021491\n",
      "* Best MAE value: 0.746653177 (SingleSimilarity, pearson, all neighbours)\n",
      "* Best RMSE value: 0.951336098 (SingleSimilarity, pearson, all neighbours)\n",
      "* Best Top N value: 0.725733055 (SingleSimilarity, pearson, all neighbours)"
     ]
    },
    {
     "cell_type": "markdown",
     "metadata": {},
     "source": [
      "### Summary\n",
      "* The best MAE is 0.746653177 by the AdjustedWeigthedSumRecommender (SingleSimilarity, pearson, all neighbours).\n",
      "* The best RMSE is 0.951336098 by the AdjustedWeigthedSumRecommender (SingleSimilarity, pearson, all neighbours).\n",
      "* The best Top N is 0.728656574 by the WeigthedSumRecommender (SingleSimilariy, pearson, all neighbours).\n",
      "* The best MAE average is 0.823195759 by the AdjustedWeigthedSumRecommender.\n",
      "* The best RMSE average is 1.041963991 by the AdjustedWeigthedSumRecommender.\n",
      "* The best Top N average is 0.686021491 by the AdjustedWeigthedSumRecommender.\n",
      "* The higher the number of neighbours, the better the results for all evaluation metrics.\n",
      "* Both the AdjustedWeigthedSumRecommender and the WeigthedSumRecommender manage to beat the DummyRecommender and the AverageRecommender."
     ]
    }
   ],
   "metadata": {}
  }
 ]
}