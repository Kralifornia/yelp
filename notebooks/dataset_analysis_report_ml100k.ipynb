{
 "metadata": {},
 "nbformat": 3,
 "nbformat_minor": 0,
 "worksheets": [
  {
   "cells": [
    {
     "cell_type": "markdown",
     "metadata": {},
     "source": [
      "# MovieLens 100k Dataset Analysis"
     ]
    },
    {
     "cell_type": "markdown",
     "metadata": {},
     "source": [
      "## Fact Sheet\n",
      "The MovieLens 100k contains:\n",
      "* 100000 reviews\n",
      "* Made by 943 users\n",
      "* About 1682 items\n",
      "* It has an approximated sparsity of 0.936953306358\n",
      "\n",
      "Now we are going to analyze the number of reviews per user and per item"
     ]
    },
    {
     "cell_type": "code",
     "collapsed": false,
     "input": [
      "import sys\n",
      "sys.path.append('/Users/fpena/UCC/Thesis/projects/yelp/source/python')\n",
      "from etl import ETLUtils\n",
      "\n",
      "from etl.reviews_dataset_analyzer import ReviewsDatasetAnalyzer\n",
      "\n",
      "# Load reviews\n",
      "from tripadvisor.fourcity import movielens_extractor\n",
      "reviews = movielens_extractor.get_ml_100K_dataset()\n",
      "rda = ReviewsDatasetAnalyzer(reviews)\n"
     ],
     "language": "python",
     "metadata": {},
     "outputs": []
    },
    {
     "cell_type": "markdown",
     "metadata": {},
     "source": [
      "## Users Reviews Analysis\n",
      "* The average number of reviews per user is 106.044538706\n",
      "* The minimum number of reviews a user has is 20\n",
      "* The maximum number of reviews a user has is 737"
     ]
    },
    {
     "cell_type": "code",
     "collapsed": false,
     "input": [
      "# Number of reviews per user\n",
      "users_summary = rda.summarize_reviews_by_field('user_id')\n",
      "print('Average number of reviews per user', float(rda.num_reviews)/rda.num_users)\n",
      "users_summary.plot(kind='line', rot=0)"
     ],
     "language": "python",
     "metadata": {},
     "outputs": []
    },
    {
     "cell_type": "markdown",
     "metadata": {},
     "source": [
      "## Items Reviews Analysis\n",
      "* The average number of reviews per item is 59.4530321046\n",
      "* The minimum number of reviews an item has is 1\n",
      "* The maximum number of reviews an item has is 583"
     ]
    },
    {
     "cell_type": "code",
     "collapsed": false,
     "input": [
      "# Number of reviews per item\n",
      "items_summary = rda.summarize_reviews_by_field('offering_id')\n",
      "print('Average number of reviews per item', float(rda.num_reviews)/rda.num_items)\n",
      "items_summary.plot(kind='line', rot=0)"
     ],
     "language": "python",
     "metadata": {},
     "outputs": []
    },
    {
     "cell_type": "markdown",
     "metadata": {},
     "source": [
      "## Number of items 2 users have in common\n",
      "In this section we are going to count the number of items two users have in common"
     ]
    },
    {
     "cell_type": "code",
     "collapsed": false,
     "input": [
      "# Number of items 2 users have in common\n",
      "common_item_counts = rda.count_items_in_common()\n",
      "plt.plot(common_item_counts.keys(), common_item_counts.values())\n"
     ],
     "language": "python",
     "metadata": {},
     "outputs": []
    },
    {
     "cell_type": "code",
     "collapsed": false,
     "input": [
      "from pylab import boxplot\n",
      "my_data = [key for key, value in common_item_counts.iteritems() for i in xrange(value)]\n",
      "mean_common_items = float(sum(my_data))/len(my_data)\n",
      "print('Average number of common items between two users:', mean_common_items)\n",
      "boxplot(my_data)"
     ],
     "language": "python",
     "metadata": {},
     "outputs": []
    }
   ],
   "metadata": {}
  }
 ]
}